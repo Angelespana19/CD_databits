{
  "cells": [
    {
      "cell_type": "markdown",
      "metadata": {
        "id": "view-in-github",
        "colab_type": "text"
      },
      "source": [
        "<a href=\"https://colab.research.google.com/github/Angelespana19/CD_databits/blob/main/05_Estad%C3%ADstica_descriptiva.ipynb\" target=\"_parent\"><img src=\"https://colab.research.google.com/assets/colab-badge.svg\" alt=\"Open In Colab\"/></a>"
      ]
    },
    {
      "cell_type": "markdown",
      "source": [
        "\n",
        "<div style=\"text-align: center; line-height: 0; padding-top: 9px;\">\n",
        "  <img src=\"https://storage.googleapis.com/datasets-academy/public-img/notebooks/headers/databits-header-notebook.png\" alt=\"Databricks Learning\" style=\"width: 100%;\">\n",
        "</div>"
      ],
      "metadata": {
        "application/vnd.databricks.v1+cell": {
          "title": "",
          "showTitle": false,
          "inputWidgets": {},
          "nuid": "83a14146-3520-4c98-8e8d-1d939ed8d998"
        },
        "id": "Oquu2Dlm6slX"
      }
    },
    {
      "cell_type": "markdown",
      "source": [
        "# <center>  Estadística Descriptiva  </center>\n",
        "\n",
        "## Descripción\n",
        "En esta lección se revisa los conceptos asociados a la estadística descriptiva implementando código Python.\n",
        "\n",
        "## Contenido\n",
        "\n",
        "* Medidas de Tendencia Central\n",
        "* Medidas de Dispersión\n",
        "* Medidas de Posición\n",
        "* Medidas de Forma\n",
        "* Distribución Normal\n",
        "* Covarianza y correlación\n",
        "\n",
        "## Requisitos previos\n",
        "\n",
        "* Haber completado el curso:\n",
        "  * Introducción a Python\n",
        "  * Conocimientos básicos de programación\n",
        "  * Navegador web: Chrome\n",
        "\n",
        "<img alt=\"Caution\" title=\"Caution\" style=\"vertical-align: text-bottom; position: relative; height:1.3em; top:0.0em\" src=\"https://storage.googleapis.com/datasets-academy/public-img/notebooks/icons/danger.png\"/> **Disclaimer:** Este material ha sido preparado por el equipo de **handytec Academy®**. Se prohibe la publicación o reproducción de este material sin previa autorización de **handytec Academy®** - 2022 Todos los derechos reservados."
      ],
      "metadata": {
        "application/vnd.databricks.v1+cell": {
          "title": "",
          "showTitle": false,
          "inputWidgets": {},
          "nuid": "ef836853-0144-4292-9bc5-cd2cc6d0c234"
        },
        "id": "iZrq2oSJ6sla"
      }
    },
    {
      "cell_type": "markdown",
      "source": [
        "## Importar librerías y verificar versiones"
      ],
      "metadata": {
        "application/vnd.databricks.v1+cell": {
          "title": "",
          "showTitle": false,
          "inputWidgets": {},
          "nuid": "710669da-3e8d-4e85-9c39-f802cfd81c78"
        },
        "id": "DuKNVut26slb"
      }
    },
    {
      "cell_type": "code",
      "source": [
        "import sys\n",
        "import numpy as np\n",
        "import pandas as pd\n",
        "# Librería para medidas de posición y forma\n",
        "import scipy\n",
        "import scipy.stats as stats\n",
        "# Librerías para visualización\n",
        "import seaborn as sns\n",
        "import matplotlib\n",
        "import matplotlib.pyplot as plt"
      ],
      "metadata": {
        "application/vnd.databricks.v1+cell": {
          "title": "",
          "showTitle": false,
          "inputWidgets": {},
          "nuid": "f66338cc-9e1a-4ecf-988f-7d75a1e42259"
        },
        "id": "ZuTFoTVl6slb"
      },
      "outputs": [],
      "execution_count": 2
    },
    {
      "cell_type": "code",
      "source": [
        "print('** Versiones Actuales | Requeridas **')\n",
        "print('Python:\\nVersion Actual:', sys.version, ' | Requerida >= 3.6')\n",
        "print('NumPy:\\nVersion Actual: {:10} | Requerida >= 1.16.2'.format(np.__version__))\n",
        "print('Pandas:\\nVersion Actual: {:10}| Requerida >= 1.0.1'.format(pd.__version__))\n",
        "print('SciPy:\\nVersion Actual: {:10}| Requerida >= 1.2.1'.format(scipy.__version__))\n",
        "print('Matplotlib:\\nVersion Actual: {:10} | Requerida >= 3.0.3'.format(matplotlib.__version__))\n",
        "print('Seaborn:\\nVersion Actual: {:10} |Requerida >= 0.9.0 '.format(sns.__version__))"
      ],
      "metadata": {
        "application/vnd.databricks.v1+cell": {
          "title": "",
          "showTitle": false,
          "inputWidgets": {},
          "nuid": "3150ed84-3a10-4529-9db3-557ffa2b57ab"
        },
        "colab": {
          "base_uri": "https://localhost:8080/"
        },
        "id": "kzQdV-kx6sld",
        "outputId": "ad12a1d1-ad7d-49dc-a8bd-d7edf004f760"
      },
      "outputs": [
        {
          "output_type": "stream",
          "name": "stdout",
          "text": [
            "** Versiones Actuales | Requeridas **\n",
            "Python:\n",
            "Version Actual: 3.7.14 (default, Sep  8 2022, 00:06:44) \n",
            "[GCC 7.5.0]  | Requerida >= 3.6\n",
            "NumPy:\n",
            "Version Actual: 1.21.6     | Requerida >= 1.16.2\n",
            "Pandas:\n",
            "Version Actual: 1.3.5     | Requerida >= 1.0.1\n",
            "SciPy:\n",
            "Version Actual: 1.7.3     | Requerida >= 1.2.1\n",
            "Matplotlib:\n",
            "Version Actual: 3.2.2      | Requerida >= 3.0.3\n",
            "Seaborn:\n",
            "Version Actual: 0.11.2     |Requerida >= 0.9.0 \n"
          ]
        }
      ],
      "execution_count": null
    },
    {
      "cell_type": "markdown",
      "source": [
        "## 1. Dataset de Trabajo\n",
        "\n",
        "**Credit:** conjunto de datos simulados que contiene información sobre diez mil clientes de una entidad financiera\n",
        "\n",
        "<a href='https://rdrr.io/cran/ISLR/man/Credit.html'>\n",
        "  Documentación de las variables </a>"
      ],
      "metadata": {
        "application/vnd.databricks.v1+cell": {
          "title": "",
          "showTitle": false,
          "inputWidgets": {},
          "nuid": "69cc1b5a-f0f5-4e37-9e5e-1e0f8a9913f5"
        },
        "id": "NugVOSJb6sld"
      }
    },
    {
      "cell_type": "markdown",
      "source": [
        "**Diccionario de datos**\n",
        "* ID: Código de identificación del cliente\n",
        "* Income: Ingresos del cliente en $10,000's\n",
        "* Limit: Límite de crédito\n",
        "* Rating: Puntaje crediticio\n",
        "* Cards: Número de tarjetas de crédito\n",
        "* Age: Edad en años\n",
        "* Education: Número de años de educación\n",
        "* Gender: Masculino (Male) o Femenino (Female)\n",
        "* Student: Si el cliente es estudiantes (Yes) o no lo es (No)\n",
        "* Married: Si el cliente está casado (Yes) o no está (No)\n",
        "* Ethnicity: Africano (African), Americano (American), Asiático (Asian) y Caucásico (Caucasian)\n",
        "* Balance: Promedio del saldo de la tarjeta de crédito en dólares"
      ],
      "metadata": {
        "application/vnd.databricks.v1+cell": {
          "title": "",
          "showTitle": false,
          "inputWidgets": {},
          "nuid": "2b8b096b-e54f-4f1d-af4e-aecb80306dc3"
        },
        "id": "4CQr8tOv6sle"
      }
    },
    {
      "cell_type": "code",
      "source": [
        "Credit       = pd.read_csv(\"https://storage.googleapis.com/datasets-academy/Credit.csv\")\n",
        "Credit[\"ID\"] = Credit[\"ID\"].astype(object)"
      ],
      "metadata": {
        "application/vnd.databricks.v1+cell": {
          "title": "",
          "showTitle": false,
          "inputWidgets": {},
          "nuid": "404d5cc8-c865-4fe6-b300-e6407d420f32"
        },
        "id": "lfPH_Vek6sle"
      },
      "outputs": [],
      "execution_count": 3
    },
    {
      "cell_type": "code",
      "source": [
        "Credit.head(30)"
      ],
      "metadata": {
        "application/vnd.databricks.v1+cell": {
          "title": "",
          "showTitle": false,
          "inputWidgets": {},
          "nuid": "d9f435d8-9a4b-490d-a680-1a8c09b4c409"
        },
        "colab": {
          "base_uri": "https://localhost:8080/",
          "height": 1000
        },
        "id": "8IqK1mj_6sle",
        "outputId": "8d61c396-d6b8-4101-d055-78da019c11fd"
      },
      "outputs": [
        {
          "output_type": "execute_result",
          "data": {
            "text/plain": [
              "    ID   Income  Limit  Rating  Cards  Age  Education  Gender Student Married  \\\n",
              "0    1   14.891   3606     283      2   34         11    Male      No     Yes   \n",
              "1    2  106.025   6645     483      3   82         15  Female     Yes     Yes   \n",
              "2    3  104.593   7075     514      4   71         11    Male      No      No   \n",
              "3    4  148.924   9504     681      3   36         11  Female      No      No   \n",
              "4    5   55.882   4897     357      2   68         16    Male      No     Yes   \n",
              "5    6   80.180   8047     569      4   77         10    Male      No      No   \n",
              "6    7   20.996   3388     259      2   37         12  Female      No      No   \n",
              "7    8   71.408   7114     512      2   87          9    Male      No      No   \n",
              "8    9   15.125   3300     266      5   66         13  Female      No      No   \n",
              "9   10   71.061   6819     491      3   41         19  Female     Yes     Yes   \n",
              "10  11   63.095   8117     589      4   30         14    Male      No     Yes   \n",
              "11  12   15.045   1311     138      3   64         16    Male      No      No   \n",
              "12  13   80.616   5308     394      1   57          7  Female      No     Yes   \n",
              "13  14   43.682   6922     511      1   49          9    Male      No     Yes   \n",
              "14  15   19.144   3291     269      2   75         13  Female      No      No   \n",
              "15  16   20.089   2525     200      3   57         15  Female      No     Yes   \n",
              "16  17   53.598   3714     286      3   73         17  Female      No     Yes   \n",
              "17  18   36.496   4378     339      3   69         15  Female      No     Yes   \n",
              "18  19   49.570   6384     448      1   28          9  Female      No     Yes   \n",
              "19  20   42.079   6626     479      2   44          9    Male      No      No   \n",
              "20  21   17.700   2860     235      4   63         16  Female      No      No   \n",
              "21  22   37.348   6378     458      1   72         17  Female      No      No   \n",
              "22  23   20.103   2631     213      3   61         10    Male      No     Yes   \n",
              "23  24   64.027   5179     398      5   48          8    Male      No     Yes   \n",
              "24  25   10.742   1757     156      3   57         15  Female      No      No   \n",
              "25  26   14.090   4323     326      5   25         16  Female      No     Yes   \n",
              "26  27   42.471   3625     289      6   44         12  Female     Yes      No   \n",
              "27  28   32.793   4534     333      2   44         16    Male      No      No   \n",
              "28  29  186.634  13414     949      2   41         14  Female      No     Yes   \n",
              "29  30   26.813   5611     411      4   55         16  Female      No      No   \n",
              "\n",
              "           Ethnicity  Balance  \n",
              "0          Caucasian      333  \n",
              "1              Asian      903  \n",
              "2              Asian      580  \n",
              "3              Asian      964  \n",
              "4          Caucasian      331  \n",
              "5          Caucasian     1151  \n",
              "6   African American      203  \n",
              "7              Asian      872  \n",
              "8          Caucasian      279  \n",
              "9   African American     1350  \n",
              "10         Caucasian     1407  \n",
              "11         Caucasian        0  \n",
              "12             Asian      204  \n",
              "13         Caucasian     1081  \n",
              "14  African American      148  \n",
              "15  African American        0  \n",
              "16  African American        0  \n",
              "17             Asian      368  \n",
              "18             Asian      891  \n",
              "19             Asian     1048  \n",
              "20             Asian       89  \n",
              "21         Caucasian      968  \n",
              "22  African American        0  \n",
              "23  African American      411  \n",
              "24         Caucasian        0  \n",
              "25  African American      671  \n",
              "26         Caucasian      654  \n",
              "27  African American      467  \n",
              "28  African American     1809  \n",
              "29         Caucasian      915  "
            ],
            "text/html": [
              "\n",
              "  <div id=\"df-1d07c96b-0e4c-4503-aae9-21ec1f04eb55\">\n",
              "    <div class=\"colab-df-container\">\n",
              "      <div>\n",
              "<style scoped>\n",
              "    .dataframe tbody tr th:only-of-type {\n",
              "        vertical-align: middle;\n",
              "    }\n",
              "\n",
              "    .dataframe tbody tr th {\n",
              "        vertical-align: top;\n",
              "    }\n",
              "\n",
              "    .dataframe thead th {\n",
              "        text-align: right;\n",
              "    }\n",
              "</style>\n",
              "<table border=\"1\" class=\"dataframe\">\n",
              "  <thead>\n",
              "    <tr style=\"text-align: right;\">\n",
              "      <th></th>\n",
              "      <th>ID</th>\n",
              "      <th>Income</th>\n",
              "      <th>Limit</th>\n",
              "      <th>Rating</th>\n",
              "      <th>Cards</th>\n",
              "      <th>Age</th>\n",
              "      <th>Education</th>\n",
              "      <th>Gender</th>\n",
              "      <th>Student</th>\n",
              "      <th>Married</th>\n",
              "      <th>Ethnicity</th>\n",
              "      <th>Balance</th>\n",
              "    </tr>\n",
              "  </thead>\n",
              "  <tbody>\n",
              "    <tr>\n",
              "      <th>0</th>\n",
              "      <td>1</td>\n",
              "      <td>14.891</td>\n",
              "      <td>3606</td>\n",
              "      <td>283</td>\n",
              "      <td>2</td>\n",
              "      <td>34</td>\n",
              "      <td>11</td>\n",
              "      <td>Male</td>\n",
              "      <td>No</td>\n",
              "      <td>Yes</td>\n",
              "      <td>Caucasian</td>\n",
              "      <td>333</td>\n",
              "    </tr>\n",
              "    <tr>\n",
              "      <th>1</th>\n",
              "      <td>2</td>\n",
              "      <td>106.025</td>\n",
              "      <td>6645</td>\n",
              "      <td>483</td>\n",
              "      <td>3</td>\n",
              "      <td>82</td>\n",
              "      <td>15</td>\n",
              "      <td>Female</td>\n",
              "      <td>Yes</td>\n",
              "      <td>Yes</td>\n",
              "      <td>Asian</td>\n",
              "      <td>903</td>\n",
              "    </tr>\n",
              "    <tr>\n",
              "      <th>2</th>\n",
              "      <td>3</td>\n",
              "      <td>104.593</td>\n",
              "      <td>7075</td>\n",
              "      <td>514</td>\n",
              "      <td>4</td>\n",
              "      <td>71</td>\n",
              "      <td>11</td>\n",
              "      <td>Male</td>\n",
              "      <td>No</td>\n",
              "      <td>No</td>\n",
              "      <td>Asian</td>\n",
              "      <td>580</td>\n",
              "    </tr>\n",
              "    <tr>\n",
              "      <th>3</th>\n",
              "      <td>4</td>\n",
              "      <td>148.924</td>\n",
              "      <td>9504</td>\n",
              "      <td>681</td>\n",
              "      <td>3</td>\n",
              "      <td>36</td>\n",
              "      <td>11</td>\n",
              "      <td>Female</td>\n",
              "      <td>No</td>\n",
              "      <td>No</td>\n",
              "      <td>Asian</td>\n",
              "      <td>964</td>\n",
              "    </tr>\n",
              "    <tr>\n",
              "      <th>4</th>\n",
              "      <td>5</td>\n",
              "      <td>55.882</td>\n",
              "      <td>4897</td>\n",
              "      <td>357</td>\n",
              "      <td>2</td>\n",
              "      <td>68</td>\n",
              "      <td>16</td>\n",
              "      <td>Male</td>\n",
              "      <td>No</td>\n",
              "      <td>Yes</td>\n",
              "      <td>Caucasian</td>\n",
              "      <td>331</td>\n",
              "    </tr>\n",
              "    <tr>\n",
              "      <th>5</th>\n",
              "      <td>6</td>\n",
              "      <td>80.180</td>\n",
              "      <td>8047</td>\n",
              "      <td>569</td>\n",
              "      <td>4</td>\n",
              "      <td>77</td>\n",
              "      <td>10</td>\n",
              "      <td>Male</td>\n",
              "      <td>No</td>\n",
              "      <td>No</td>\n",
              "      <td>Caucasian</td>\n",
              "      <td>1151</td>\n",
              "    </tr>\n",
              "    <tr>\n",
              "      <th>6</th>\n",
              "      <td>7</td>\n",
              "      <td>20.996</td>\n",
              "      <td>3388</td>\n",
              "      <td>259</td>\n",
              "      <td>2</td>\n",
              "      <td>37</td>\n",
              "      <td>12</td>\n",
              "      <td>Female</td>\n",
              "      <td>No</td>\n",
              "      <td>No</td>\n",
              "      <td>African American</td>\n",
              "      <td>203</td>\n",
              "    </tr>\n",
              "    <tr>\n",
              "      <th>7</th>\n",
              "      <td>8</td>\n",
              "      <td>71.408</td>\n",
              "      <td>7114</td>\n",
              "      <td>512</td>\n",
              "      <td>2</td>\n",
              "      <td>87</td>\n",
              "      <td>9</td>\n",
              "      <td>Male</td>\n",
              "      <td>No</td>\n",
              "      <td>No</td>\n",
              "      <td>Asian</td>\n",
              "      <td>872</td>\n",
              "    </tr>\n",
              "    <tr>\n",
              "      <th>8</th>\n",
              "      <td>9</td>\n",
              "      <td>15.125</td>\n",
              "      <td>3300</td>\n",
              "      <td>266</td>\n",
              "      <td>5</td>\n",
              "      <td>66</td>\n",
              "      <td>13</td>\n",
              "      <td>Female</td>\n",
              "      <td>No</td>\n",
              "      <td>No</td>\n",
              "      <td>Caucasian</td>\n",
              "      <td>279</td>\n",
              "    </tr>\n",
              "    <tr>\n",
              "      <th>9</th>\n",
              "      <td>10</td>\n",
              "      <td>71.061</td>\n",
              "      <td>6819</td>\n",
              "      <td>491</td>\n",
              "      <td>3</td>\n",
              "      <td>41</td>\n",
              "      <td>19</td>\n",
              "      <td>Female</td>\n",
              "      <td>Yes</td>\n",
              "      <td>Yes</td>\n",
              "      <td>African American</td>\n",
              "      <td>1350</td>\n",
              "    </tr>\n",
              "    <tr>\n",
              "      <th>10</th>\n",
              "      <td>11</td>\n",
              "      <td>63.095</td>\n",
              "      <td>8117</td>\n",
              "      <td>589</td>\n",
              "      <td>4</td>\n",
              "      <td>30</td>\n",
              "      <td>14</td>\n",
              "      <td>Male</td>\n",
              "      <td>No</td>\n",
              "      <td>Yes</td>\n",
              "      <td>Caucasian</td>\n",
              "      <td>1407</td>\n",
              "    </tr>\n",
              "    <tr>\n",
              "      <th>11</th>\n",
              "      <td>12</td>\n",
              "      <td>15.045</td>\n",
              "      <td>1311</td>\n",
              "      <td>138</td>\n",
              "      <td>3</td>\n",
              "      <td>64</td>\n",
              "      <td>16</td>\n",
              "      <td>Male</td>\n",
              "      <td>No</td>\n",
              "      <td>No</td>\n",
              "      <td>Caucasian</td>\n",
              "      <td>0</td>\n",
              "    </tr>\n",
              "    <tr>\n",
              "      <th>12</th>\n",
              "      <td>13</td>\n",
              "      <td>80.616</td>\n",
              "      <td>5308</td>\n",
              "      <td>394</td>\n",
              "      <td>1</td>\n",
              "      <td>57</td>\n",
              "      <td>7</td>\n",
              "      <td>Female</td>\n",
              "      <td>No</td>\n",
              "      <td>Yes</td>\n",
              "      <td>Asian</td>\n",
              "      <td>204</td>\n",
              "    </tr>\n",
              "    <tr>\n",
              "      <th>13</th>\n",
              "      <td>14</td>\n",
              "      <td>43.682</td>\n",
              "      <td>6922</td>\n",
              "      <td>511</td>\n",
              "      <td>1</td>\n",
              "      <td>49</td>\n",
              "      <td>9</td>\n",
              "      <td>Male</td>\n",
              "      <td>No</td>\n",
              "      <td>Yes</td>\n",
              "      <td>Caucasian</td>\n",
              "      <td>1081</td>\n",
              "    </tr>\n",
              "    <tr>\n",
              "      <th>14</th>\n",
              "      <td>15</td>\n",
              "      <td>19.144</td>\n",
              "      <td>3291</td>\n",
              "      <td>269</td>\n",
              "      <td>2</td>\n",
              "      <td>75</td>\n",
              "      <td>13</td>\n",
              "      <td>Female</td>\n",
              "      <td>No</td>\n",
              "      <td>No</td>\n",
              "      <td>African American</td>\n",
              "      <td>148</td>\n",
              "    </tr>\n",
              "    <tr>\n",
              "      <th>15</th>\n",
              "      <td>16</td>\n",
              "      <td>20.089</td>\n",
              "      <td>2525</td>\n",
              "      <td>200</td>\n",
              "      <td>3</td>\n",
              "      <td>57</td>\n",
              "      <td>15</td>\n",
              "      <td>Female</td>\n",
              "      <td>No</td>\n",
              "      <td>Yes</td>\n",
              "      <td>African American</td>\n",
              "      <td>0</td>\n",
              "    </tr>\n",
              "    <tr>\n",
              "      <th>16</th>\n",
              "      <td>17</td>\n",
              "      <td>53.598</td>\n",
              "      <td>3714</td>\n",
              "      <td>286</td>\n",
              "      <td>3</td>\n",
              "      <td>73</td>\n",
              "      <td>17</td>\n",
              "      <td>Female</td>\n",
              "      <td>No</td>\n",
              "      <td>Yes</td>\n",
              "      <td>African American</td>\n",
              "      <td>0</td>\n",
              "    </tr>\n",
              "    <tr>\n",
              "      <th>17</th>\n",
              "      <td>18</td>\n",
              "      <td>36.496</td>\n",
              "      <td>4378</td>\n",
              "      <td>339</td>\n",
              "      <td>3</td>\n",
              "      <td>69</td>\n",
              "      <td>15</td>\n",
              "      <td>Female</td>\n",
              "      <td>No</td>\n",
              "      <td>Yes</td>\n",
              "      <td>Asian</td>\n",
              "      <td>368</td>\n",
              "    </tr>\n",
              "    <tr>\n",
              "      <th>18</th>\n",
              "      <td>19</td>\n",
              "      <td>49.570</td>\n",
              "      <td>6384</td>\n",
              "      <td>448</td>\n",
              "      <td>1</td>\n",
              "      <td>28</td>\n",
              "      <td>9</td>\n",
              "      <td>Female</td>\n",
              "      <td>No</td>\n",
              "      <td>Yes</td>\n",
              "      <td>Asian</td>\n",
              "      <td>891</td>\n",
              "    </tr>\n",
              "    <tr>\n",
              "      <th>19</th>\n",
              "      <td>20</td>\n",
              "      <td>42.079</td>\n",
              "      <td>6626</td>\n",
              "      <td>479</td>\n",
              "      <td>2</td>\n",
              "      <td>44</td>\n",
              "      <td>9</td>\n",
              "      <td>Male</td>\n",
              "      <td>No</td>\n",
              "      <td>No</td>\n",
              "      <td>Asian</td>\n",
              "      <td>1048</td>\n",
              "    </tr>\n",
              "    <tr>\n",
              "      <th>20</th>\n",
              "      <td>21</td>\n",
              "      <td>17.700</td>\n",
              "      <td>2860</td>\n",
              "      <td>235</td>\n",
              "      <td>4</td>\n",
              "      <td>63</td>\n",
              "      <td>16</td>\n",
              "      <td>Female</td>\n",
              "      <td>No</td>\n",
              "      <td>No</td>\n",
              "      <td>Asian</td>\n",
              "      <td>89</td>\n",
              "    </tr>\n",
              "    <tr>\n",
              "      <th>21</th>\n",
              "      <td>22</td>\n",
              "      <td>37.348</td>\n",
              "      <td>6378</td>\n",
              "      <td>458</td>\n",
              "      <td>1</td>\n",
              "      <td>72</td>\n",
              "      <td>17</td>\n",
              "      <td>Female</td>\n",
              "      <td>No</td>\n",
              "      <td>No</td>\n",
              "      <td>Caucasian</td>\n",
              "      <td>968</td>\n",
              "    </tr>\n",
              "    <tr>\n",
              "      <th>22</th>\n",
              "      <td>23</td>\n",
              "      <td>20.103</td>\n",
              "      <td>2631</td>\n",
              "      <td>213</td>\n",
              "      <td>3</td>\n",
              "      <td>61</td>\n",
              "      <td>10</td>\n",
              "      <td>Male</td>\n",
              "      <td>No</td>\n",
              "      <td>Yes</td>\n",
              "      <td>African American</td>\n",
              "      <td>0</td>\n",
              "    </tr>\n",
              "    <tr>\n",
              "      <th>23</th>\n",
              "      <td>24</td>\n",
              "      <td>64.027</td>\n",
              "      <td>5179</td>\n",
              "      <td>398</td>\n",
              "      <td>5</td>\n",
              "      <td>48</td>\n",
              "      <td>8</td>\n",
              "      <td>Male</td>\n",
              "      <td>No</td>\n",
              "      <td>Yes</td>\n",
              "      <td>African American</td>\n",
              "      <td>411</td>\n",
              "    </tr>\n",
              "    <tr>\n",
              "      <th>24</th>\n",
              "      <td>25</td>\n",
              "      <td>10.742</td>\n",
              "      <td>1757</td>\n",
              "      <td>156</td>\n",
              "      <td>3</td>\n",
              "      <td>57</td>\n",
              "      <td>15</td>\n",
              "      <td>Female</td>\n",
              "      <td>No</td>\n",
              "      <td>No</td>\n",
              "      <td>Caucasian</td>\n",
              "      <td>0</td>\n",
              "    </tr>\n",
              "    <tr>\n",
              "      <th>25</th>\n",
              "      <td>26</td>\n",
              "      <td>14.090</td>\n",
              "      <td>4323</td>\n",
              "      <td>326</td>\n",
              "      <td>5</td>\n",
              "      <td>25</td>\n",
              "      <td>16</td>\n",
              "      <td>Female</td>\n",
              "      <td>No</td>\n",
              "      <td>Yes</td>\n",
              "      <td>African American</td>\n",
              "      <td>671</td>\n",
              "    </tr>\n",
              "    <tr>\n",
              "      <th>26</th>\n",
              "      <td>27</td>\n",
              "      <td>42.471</td>\n",
              "      <td>3625</td>\n",
              "      <td>289</td>\n",
              "      <td>6</td>\n",
              "      <td>44</td>\n",
              "      <td>12</td>\n",
              "      <td>Female</td>\n",
              "      <td>Yes</td>\n",
              "      <td>No</td>\n",
              "      <td>Caucasian</td>\n",
              "      <td>654</td>\n",
              "    </tr>\n",
              "    <tr>\n",
              "      <th>27</th>\n",
              "      <td>28</td>\n",
              "      <td>32.793</td>\n",
              "      <td>4534</td>\n",
              "      <td>333</td>\n",
              "      <td>2</td>\n",
              "      <td>44</td>\n",
              "      <td>16</td>\n",
              "      <td>Male</td>\n",
              "      <td>No</td>\n",
              "      <td>No</td>\n",
              "      <td>African American</td>\n",
              "      <td>467</td>\n",
              "    </tr>\n",
              "    <tr>\n",
              "      <th>28</th>\n",
              "      <td>29</td>\n",
              "      <td>186.634</td>\n",
              "      <td>13414</td>\n",
              "      <td>949</td>\n",
              "      <td>2</td>\n",
              "      <td>41</td>\n",
              "      <td>14</td>\n",
              "      <td>Female</td>\n",
              "      <td>No</td>\n",
              "      <td>Yes</td>\n",
              "      <td>African American</td>\n",
              "      <td>1809</td>\n",
              "    </tr>\n",
              "    <tr>\n",
              "      <th>29</th>\n",
              "      <td>30</td>\n",
              "      <td>26.813</td>\n",
              "      <td>5611</td>\n",
              "      <td>411</td>\n",
              "      <td>4</td>\n",
              "      <td>55</td>\n",
              "      <td>16</td>\n",
              "      <td>Female</td>\n",
              "      <td>No</td>\n",
              "      <td>No</td>\n",
              "      <td>Caucasian</td>\n",
              "      <td>915</td>\n",
              "    </tr>\n",
              "  </tbody>\n",
              "</table>\n",
              "</div>\n",
              "      <button class=\"colab-df-convert\" onclick=\"convertToInteractive('df-1d07c96b-0e4c-4503-aae9-21ec1f04eb55')\"\n",
              "              title=\"Convert this dataframe to an interactive table.\"\n",
              "              style=\"display:none;\">\n",
              "        \n",
              "  <svg xmlns=\"http://www.w3.org/2000/svg\" height=\"24px\"viewBox=\"0 0 24 24\"\n",
              "       width=\"24px\">\n",
              "    <path d=\"M0 0h24v24H0V0z\" fill=\"none\"/>\n",
              "    <path d=\"M18.56 5.44l.94 2.06.94-2.06 2.06-.94-2.06-.94-.94-2.06-.94 2.06-2.06.94zm-11 1L8.5 8.5l.94-2.06 2.06-.94-2.06-.94L8.5 2.5l-.94 2.06-2.06.94zm10 10l.94 2.06.94-2.06 2.06-.94-2.06-.94-.94-2.06-.94 2.06-2.06.94z\"/><path d=\"M17.41 7.96l-1.37-1.37c-.4-.4-.92-.59-1.43-.59-.52 0-1.04.2-1.43.59L10.3 9.45l-7.72 7.72c-.78.78-.78 2.05 0 2.83L4 21.41c.39.39.9.59 1.41.59.51 0 1.02-.2 1.41-.59l7.78-7.78 2.81-2.81c.8-.78.8-2.07 0-2.86zM5.41 20L4 18.59l7.72-7.72 1.47 1.35L5.41 20z\"/>\n",
              "  </svg>\n",
              "      </button>\n",
              "      \n",
              "  <style>\n",
              "    .colab-df-container {\n",
              "      display:flex;\n",
              "      flex-wrap:wrap;\n",
              "      gap: 12px;\n",
              "    }\n",
              "\n",
              "    .colab-df-convert {\n",
              "      background-color: #E8F0FE;\n",
              "      border: none;\n",
              "      border-radius: 50%;\n",
              "      cursor: pointer;\n",
              "      display: none;\n",
              "      fill: #1967D2;\n",
              "      height: 32px;\n",
              "      padding: 0 0 0 0;\n",
              "      width: 32px;\n",
              "    }\n",
              "\n",
              "    .colab-df-convert:hover {\n",
              "      background-color: #E2EBFA;\n",
              "      box-shadow: 0px 1px 2px rgba(60, 64, 67, 0.3), 0px 1px 3px 1px rgba(60, 64, 67, 0.15);\n",
              "      fill: #174EA6;\n",
              "    }\n",
              "\n",
              "    [theme=dark] .colab-df-convert {\n",
              "      background-color: #3B4455;\n",
              "      fill: #D2E3FC;\n",
              "    }\n",
              "\n",
              "    [theme=dark] .colab-df-convert:hover {\n",
              "      background-color: #434B5C;\n",
              "      box-shadow: 0px 1px 3px 1px rgba(0, 0, 0, 0.15);\n",
              "      filter: drop-shadow(0px 1px 2px rgba(0, 0, 0, 0.3));\n",
              "      fill: #FFFFFF;\n",
              "    }\n",
              "  </style>\n",
              "\n",
              "      <script>\n",
              "        const buttonEl =\n",
              "          document.querySelector('#df-1d07c96b-0e4c-4503-aae9-21ec1f04eb55 button.colab-df-convert');\n",
              "        buttonEl.style.display =\n",
              "          google.colab.kernel.accessAllowed ? 'block' : 'none';\n",
              "\n",
              "        async function convertToInteractive(key) {\n",
              "          const element = document.querySelector('#df-1d07c96b-0e4c-4503-aae9-21ec1f04eb55');\n",
              "          const dataTable =\n",
              "            await google.colab.kernel.invokeFunction('convertToInteractive',\n",
              "                                                     [key], {});\n",
              "          if (!dataTable) return;\n",
              "\n",
              "          const docLinkHtml = 'Like what you see? Visit the ' +\n",
              "            '<a target=\"_blank\" href=https://colab.research.google.com/notebooks/data_table.ipynb>data table notebook</a>'\n",
              "            + ' to learn more about interactive tables.';\n",
              "          element.innerHTML = '';\n",
              "          dataTable['output_type'] = 'display_data';\n",
              "          await google.colab.output.renderOutput(dataTable, element);\n",
              "          const docLink = document.createElement('div');\n",
              "          docLink.innerHTML = docLinkHtml;\n",
              "          element.appendChild(docLink);\n",
              "        }\n",
              "      </script>\n",
              "    </div>\n",
              "  </div>\n",
              "  "
            ]
          },
          "metadata": {},
          "execution_count": 5
        }
      ],
      "execution_count": null
    },
    {
      "cell_type": "code",
      "source": [
        "ingresos = Credit[\"Income\"]\n",
        "limite = Credit[\"Limit\"]\n",
        "type(ingresos)"
      ],
      "metadata": {
        "application/vnd.databricks.v1+cell": {
          "title": "",
          "showTitle": false,
          "inputWidgets": {},
          "nuid": "5ef21503-f5de-490a-8919-7825c1759f2c"
        },
        "colab": {
          "base_uri": "https://localhost:8080/"
        },
        "id": "mQJhr8A26slf",
        "outputId": "36d40cbc-19f9-4680-fb4a-2b60013d14a4"
      },
      "outputs": [
        {
          "output_type": "execute_result",
          "data": {
            "text/plain": [
              "pandas.core.series.Series"
            ]
          },
          "metadata": {},
          "execution_count": 4
        }
      ],
      "execution_count": 4
    },
    {
      "cell_type": "markdown",
      "source": [
        "## 2. Medidas de Tendencia Central\n",
        "\n",
        "Empezaremos visualizando la distribución de los ingresos por medio de un histograma. \n",
        "\n",
        "**Ejercicio:** Identificar las características de la distribución."
      ],
      "metadata": {
        "application/vnd.databricks.v1+cell": {
          "title": "",
          "showTitle": false,
          "inputWidgets": {},
          "nuid": "b4acd775-d585-4be9-b89a-76587887c077"
        },
        "id": "xCRMAw8x6slf"
      }
    },
    {
      "cell_type": "code",
      "source": [
        "sns.displot(ingresos, color=\"darkblue\", kde=True) # kde genera una linea de tendencia \n",
        "plt.title(\"Ingresos\")\n",
        "plt.xlabel(\"Dólares\")\n",
        "plt.ylabel(\"Frecuencia Absoluta\")\n",
        "plt.show()"
      ],
      "metadata": {
        "application/vnd.databricks.v1+cell": {
          "title": "",
          "showTitle": false,
          "inputWidgets": {},
          "nuid": "d415a880-32da-4f1f-bb01-82ac4dbd90ec"
        },
        "colab": {
          "base_uri": "https://localhost:8080/",
          "height": 385
        },
        "id": "N8Y0-L2M6slg",
        "outputId": "a3074736-bb22-47d1-9543-f0733b44c42b"
      },
      "outputs": [
        {
          "output_type": "display_data",
          "data": {
            "text/plain": [
              "<Figure size 360x360 with 1 Axes>"
            ],
            "image/png": "[encoded data removed]"
          },
          "metadata": {
            "needs_background": "light"
          }
        }
      ],
      "execution_count": null
    },
    {
      "cell_type": "code",
      "source": [
        "# Medidas de tendencia central\n",
        "media    = ingresos.mean()\n",
        "mediana  = ingresos.median()\n",
        "moda     = ingresos.mode()\n",
        "\n",
        "print('Promedio: ', media, '\\nMediana: ', mediana, '\\nModa: ', moda[0])"
      ],
      "metadata": {
        "application/vnd.databricks.v1+cell": {
          "title": "",
          "showTitle": false,
          "inputWidgets": {},
          "nuid": "0b6f0e22-2a86-4243-9eb0-f4bc66a66894"
        },
        "colab": {
          "base_uri": "https://localhost:8080/"
        },
        "id": "OaB5r8Vp6slg",
        "outputId": "ff051815-f04e-463c-ee68-26f0ca99b26d"
      },
      "outputs": [
        {
          "output_type": "stream",
          "name": "stdout",
          "text": [
            "Promedio:  45.218885 \n",
            "Mediana:  33.1155 \n",
            "Moda:  23.793\n"
          ]
        }
      ],
      "execution_count": null
    },
    {
      "cell_type": "markdown",
      "source": [
        "**¿Cuál de las medidas de tendencia central resumen correctamente a los ingresos?**"
      ],
      "metadata": {
        "application/vnd.databricks.v1+cell": {
          "title": "",
          "showTitle": false,
          "inputWidgets": {},
          "nuid": "3ffa0749-1c5f-4ad6-80bb-d354dff6b7d0"
        },
        "id": "oIzFbjb06slg"
      }
    },
    {
      "cell_type": "code",
      "source": [
        "sns.displot(ingresos, color =\"darkblue\", kde=True)\n",
        "plt.title(\"Ingresos\")\n",
        "plt.xlabel(\"Dólares\")\n",
        "plt.ylabel(\"Frecuencia Absoluta\")\n",
        "plt.axvline(media, color='red', label='Promedio')\n",
        "plt.axvline(mediana, color='yellow', label='Mediana')\n",
        "plt.axvline(moda[0], color='green', label='Moda')\n",
        "plt.legend()\n",
        "plt.show()"
      ],
      "metadata": {
        "application/vnd.databricks.v1+cell": {
          "title": "",
          "showTitle": false,
          "inputWidgets": {},
          "nuid": "17563212-36c8-40cf-8ccd-44ea05006a6c"
        },
        "colab": {
          "base_uri": "https://localhost:8080/",
          "height": 385
        },
        "id": "kMqKL8Mu6slg",
        "outputId": "f052c1b8-53ed-4bd9-ebe7-ec50ac6bc155"
      },
      "outputs": [
        {
          "output_type": "display_data",
          "data": {
            "text/plain": [
              "<Figure size 360x360 with 1 Axes>"
            ],
            "image/png": "[encoded data removed]"
          },
          "metadata": {
            "needs_background": "light"
          }
        }
      ],
      "execution_count": null
    },
    {
      "cell_type": "code",
      "source": [],
      "metadata": {
        "id": "jCTMdajGYA4X"
      },
      "execution_count": null,
      "outputs": []
    },
    {
      "cell_type": "code",
      "source": [
        "from google.colab import drive\n",
        "drive.mount('/content/drive')"
      ],
      "metadata": {
        "colab": {
          "base_uri": "https://localhost:8080/"
        },
        "id": "NgNUBWO6YMPX",
        "outputId": "9c2497ad-0ff2-4ca5-ace2-4c79b27b20ed"
      },
      "execution_count": null,
      "outputs": [
        {
          "output_type": "stream",
          "name": "stdout",
          "text": [
            "Mounted at /content/drive\n"
          ]
        }
      ]
    },
    {
      "cell_type": "code",
      "source": [
        "df = pd.read_csv('/content/drive/MyDrive/Colab Notebooks/databits/races.csv')"
      ],
      "metadata": {
        "id": "8Mm01LjoYlNL"
      },
      "execution_count": null,
      "outputs": []
    },
    {
      "cell_type": "code",
      "source": [
        "df"
      ],
      "metadata": {
        "id": "zgoTt5QGY2aq",
        "outputId": "90c6a340-c85e-46bd-f8cd-67392cc5c471",
        "colab": {
          "base_uri": "https://localhost:8080/",
          "height": 887
        }
      },
      "execution_count": null,
      "outputs": [
        {
          "output_type": "execute_result",
          "data": {
            "text/plain": [
              "      raceId  year  round  circuitId                      name        date  \\\n",
              "0          1  2009      1          1     Australian Grand Prix  2009-03-29   \n",
              "1          2  2009      2          2      Malaysian Grand Prix  2009-04-05   \n",
              "2          3  2009      3         17        Chinese Grand Prix  2009-04-19   \n",
              "3          4  2009      4          3        Bahrain Grand Prix  2009-04-26   \n",
              "4          5  2009      5          4        Spanish Grand Prix  2009-05-10   \n",
              "...      ...   ...    ...        ...                       ...         ...   \n",
              "1074    1092  2022     18         22       Japanese Grand Prix  2022-10-09   \n",
              "1075    1093  2022     19         69  United States Grand Prix  2022-10-23   \n",
              "1076    1094  2022     20         32    Mexico City Grand Prix  2022-10-30   \n",
              "1077    1095  2022     21         18      Brazilian Grand Prix  2022-11-13   \n",
              "1078    1096  2022     22         24      Abu Dhabi Grand Prix  2022-11-20   \n",
              "\n",
              "          time                                                url    fp1_date  \\\n",
              "0     06:00:00  http://en.wikipedia.org/wiki/2009_Australian_G...          \\N   \n",
              "1     09:00:00  http://en.wikipedia.org/wiki/2009_Malaysian_Gr...          \\N   \n",
              "2     07:00:00  http://en.wikipedia.org/wiki/2009_Chinese_Gran...          \\N   \n",
              "3     12:00:00  http://en.wikipedia.org/wiki/2009_Bahrain_Gran...          \\N   \n",
              "4     12:00:00  http://en.wikipedia.org/wiki/2009_Spanish_Gran...          \\N   \n",
              "...        ...                                                ...         ...   \n",
              "1074  05:00:00  http://en.wikipedia.org/wiki/2022_Japanese_Gra...  2022-10-07   \n",
              "1075  19:00:00  http://en.wikipedia.org/wiki/2022_United_State...  2022-10-21   \n",
              "1076  20:00:00  http://en.wikipedia.org/wiki/2022_Mexican_Gran...  2022-10-28   \n",
              "1077  18:00:00  http://en.wikipedia.org/wiki/2022_Brazilian_Gr...  2022-11-11   \n",
              "1078  13:00:00  http://en.wikipedia.org/wiki/2022_Abu_Dhabi_Gr...  2022-11-18   \n",
              "\n",
              "      fp1_time    fp2_date  fp2_time    fp3_date  fp3_time  quali_date  \\\n",
              "0           \\N          \\N        \\N          \\N        \\N          \\N   \n",
              "1           \\N          \\N        \\N          \\N        \\N          \\N   \n",
              "2           \\N          \\N        \\N          \\N        \\N          \\N   \n",
              "3           \\N          \\N        \\N          \\N        \\N          \\N   \n",
              "4           \\N          \\N        \\N          \\N        \\N          \\N   \n",
              "...        ...         ...       ...         ...       ...         ...   \n",
              "1074  04:00:00  2022-10-07  08:00:00  2022-10-08  04:00:00  2022-10-08   \n",
              "1075  19:00:00  2022-10-21  22:00:00  2022-10-22  19:00:00  2022-10-22   \n",
              "1076  18:00:00  2022-10-28  21:00:00  2022-10-29  17:00:00  2022-10-29   \n",
              "1077  15:30:00  2022-11-12  15:30:00          \\N        \\N  2022-11-11   \n",
              "1078  09:00:00  2022-11-18  12:00:00  2022-11-19  10:00:00  2022-11-19   \n",
              "\n",
              "     quali_time sprint_date sprint_time  \n",
              "0            \\N          \\N          \\N  \n",
              "1            \\N          \\N          \\N  \n",
              "2            \\N          \\N          \\N  \n",
              "3            \\N          \\N          \\N  \n",
              "4            \\N          \\N          \\N  \n",
              "...         ...         ...         ...  \n",
              "1074   07:00:00          \\N          \\N  \n",
              "1075   22:00:00          \\N          \\N  \n",
              "1076   20:00:00          \\N          \\N  \n",
              "1077   19:00:00  2022-11-12    19:30:00  \n",
              "1078   13:00:00          \\N          \\N  \n",
              "\n",
              "[1079 rows x 18 columns]"
            ],
            "text/html": [
              "\n",
              "  <div id=\"df-4e854c36-3509-4b86-8c58-887b90706d2a\">\n",
              "    <div class=\"colab-df-container\">\n",
              "      <div>\n",
              "<style scoped>\n",
              "    .dataframe tbody tr th:only-of-type {\n",
              "        vertical-align: middle;\n",
              "    }\n",
              "\n",
              "    .dataframe tbody tr th {\n",
              "        vertical-align: top;\n",
              "    }\n",
              "\n",
              "    .dataframe thead th {\n",
              "        text-align: right;\n",
              "    }\n",
              "</style>\n",
              "<table border=\"1\" class=\"dataframe\">\n",
              "  <thead>\n",
              "    <tr style=\"text-align: right;\">\n",
              "      <th></th>\n",
              "      <th>raceId</th>\n",
              "      <th>year</th>\n",
              "      <th>round</th>\n",
              "      <th>circuitId</th>\n",
              "      <th>name</th>\n",
              "      <th>date</th>\n",
              "      <th>time</th>\n",
              "      <th>url</th>\n",
              "      <th>fp1_date</th>\n",
              "      <th>fp1_time</th>\n",
              "      <th>fp2_date</th>\n",
              "      <th>fp2_time</th>\n",
              "      <th>fp3_date</th>\n",
              "      <th>fp3_time</th>\n",
              "      <th>quali_date</th>\n",
              "      <th>quali_time</th>\n",
              "      <th>sprint_date</th>\n",
              "      <th>sprint_time</th>\n",
              "    </tr>\n",
              "  </thead>\n",
              "  <tbody>\n",
              "    <tr>\n",
              "      <th>0</th>\n",
              "      <td>1</td>\n",
              "      <td>2009</td>\n",
              "      <td>1</td>\n",
              "      <td>1</td>\n",
              "      <td>Australian Grand Prix</td>\n",
              "      <td>2009-03-29</td>\n",
              "      <td>06:00:00</td>\n",
              "      <td>http://en.wikipedia.org/wiki/2009_Australian_G...</td>\n",
              "      <td>\\N</td>\n",
              "      <td>\\N</td>\n",
              "      <td>\\N</td>\n",
              "      <td>\\N</td>\n",
              "      <td>\\N</td>\n",
              "      <td>\\N</td>\n",
              "      <td>\\N</td>\n",
              "      <td>\\N</td>\n",
              "      <td>\\N</td>\n",
              "      <td>\\N</td>\n",
              "    </tr>\n",
              "    <tr>\n",
              "      <th>1</th>\n",
              "      <td>2</td>\n",
              "      <td>2009</td>\n",
              "      <td>2</td>\n",
              "      <td>2</td>\n",
              "      <td>Malaysian Grand Prix</td>\n",
              "      <td>2009-04-05</td>\n",
              "      <td>09:00:00</td>\n",
              "      <td>http://en.wikipedia.org/wiki/2009_Malaysian_Gr...</td>\n",
              "      <td>\\N</td>\n",
              "      <td>\\N</td>\n",
              "      <td>\\N</td>\n",
              "      <td>\\N</td>\n",
              "      <td>\\N</td>\n",
              "      <td>\\N</td>\n",
              "      <td>\\N</td>\n",
              "      <td>\\N</td>\n",
              "      <td>\\N</td>\n",
              "      <td>\\N</td>\n",
              "    </tr>\n",
              "    <tr>\n",
              "      <th>2</th>\n",
              "      <td>3</td>\n",
              "      <td>2009</td>\n",
              "      <td>3</td>\n",
              "      <td>17</td>\n",
              "      <td>Chinese Grand Prix</td>\n",
              "      <td>2009-04-19</td>\n",
              "      <td>07:00:00</td>\n",
              "      <td>http://en.wikipedia.org/wiki/2009_Chinese_Gran...</td>\n",
              "      <td>\\N</td>\n",
              "      <td>\\N</td>\n",
              "      <td>\\N</td>\n",
              "      <td>\\N</td>\n",
              "      <td>\\N</td>\n",
              "      <td>\\N</td>\n",
              "      <td>\\N</td>\n",
              "      <td>\\N</td>\n",
              "      <td>\\N</td>\n",
              "      <td>\\N</td>\n",
              "    </tr>\n",
              "    <tr>\n",
              "      <th>3</th>\n",
              "      <td>4</td>\n",
              "      <td>2009</td>\n",
              "      <td>4</td>\n",
              "      <td>3</td>\n",
              "      <td>Bahrain Grand Prix</td>\n",
              "      <td>2009-04-26</td>\n",
              "      <td>12:00:00</td>\n",
              "      <td>http://en.wikipedia.org/wiki/2009_Bahrain_Gran...</td>\n",
              "      <td>\\N</td>\n",
              "      <td>\\N</td>\n",
              "      <td>\\N</td>\n",
              "      <td>\\N</td>\n",
              "      <td>\\N</td>\n",
              "      <td>\\N</td>\n",
              "      <td>\\N</td>\n",
              "      <td>\\N</td>\n",
              "      <td>\\N</td>\n",
              "      <td>\\N</td>\n",
              "    </tr>\n",
              "    <tr>\n",
              "      <th>4</th>\n",
              "      <td>5</td>\n",
              "      <td>2009</td>\n",
              "      <td>5</td>\n",
              "      <td>4</td>\n",
              "      <td>Spanish Grand Prix</td>\n",
              "      <td>2009-05-10</td>\n",
              "      <td>12:00:00</td>\n",
              "      <td>http://en.wikipedia.org/wiki/2009_Spanish_Gran...</td>\n",
              "      <td>\\N</td>\n",
              "      <td>\\N</td>\n",
              "      <td>\\N</td>\n",
              "      <td>\\N</td>\n",
              "      <td>\\N</td>\n",
              "      <td>\\N</td>\n",
              "      <td>\\N</td>\n",
              "      <td>\\N</td>\n",
              "      <td>\\N</td>\n",
              "      <td>\\N</td>\n",
              "    </tr>\n",
              "    <tr>\n",
              "      <th>...</th>\n",
              "      <td>...</td>\n",
              "      <td>...</td>\n",
              "      <td>...</td>\n",
              "      <td>...</td>\n",
              "      <td>...</td>\n",
              "      <td>...</td>\n",
              "      <td>...</td>\n",
              "      <td>...</td>\n",
              "      <td>...</td>\n",
              "      <td>...</td>\n",
              "      <td>...</td>\n",
              "      <td>...</td>\n",
              "      <td>...</td>\n",
              "      <td>...</td>\n",
              "      <td>...</td>\n",
              "      <td>...</td>\n",
              "      <td>...</td>\n",
              "      <td>...</td>\n",
              "    </tr>\n",
              "    <tr>\n",
              "      <th>1074</th>\n",
              "      <td>1092</td>\n",
              "      <td>2022</td>\n",
              "      <td>18</td>\n",
              "      <td>22</td>\n",
              "      <td>Japanese Grand Prix</td>\n",
              "      <td>2022-10-09</td>\n",
              "      <td>05:00:00</td>\n",
              "      <td>http://en.wikipedia.org/wiki/2022_Japanese_Gra...</td>\n",
              "      <td>2022-10-07</td>\n",
              "      <td>04:00:00</td>\n",
              "      <td>2022-10-07</td>\n",
              "      <td>08:00:00</td>\n",
              "      <td>2022-10-08</td>\n",
              "      <td>04:00:00</td>\n",
              "      <td>2022-10-08</td>\n",
              "      <td>07:00:00</td>\n",
              "      <td>\\N</td>\n",
              "      <td>\\N</td>\n",
              "    </tr>\n",
              "    <tr>\n",
              "      <th>1075</th>\n",
              "      <td>1093</td>\n",
              "      <td>2022</td>\n",
              "      <td>19</td>\n",
              "      <td>69</td>\n",
              "      <td>United States Grand Prix</td>\n",
              "      <td>2022-10-23</td>\n",
              "      <td>19:00:00</td>\n",
              "      <td>http://en.wikipedia.org/wiki/2022_United_State...</td>\n",
              "      <td>2022-10-21</td>\n",
              "      <td>19:00:00</td>\n",
              "      <td>2022-10-21</td>\n",
              "      <td>22:00:00</td>\n",
              "      <td>2022-10-22</td>\n",
              "      <td>19:00:00</td>\n",
              "      <td>2022-10-22</td>\n",
              "      <td>22:00:00</td>\n",
              "      <td>\\N</td>\n",
              "      <td>\\N</td>\n",
              "    </tr>\n",
              "    <tr>\n",
              "      <th>1076</th>\n",
              "      <td>1094</td>\n",
              "      <td>2022</td>\n",
              "      <td>20</td>\n",
              "      <td>32</td>\n",
              "      <td>Mexico City Grand Prix</td>\n",
              "      <td>2022-10-30</td>\n",
              "      <td>20:00:00</td>\n",
              "      <td>http://en.wikipedia.org/wiki/2022_Mexican_Gran...</td>\n",
              "      <td>2022-10-28</td>\n",
              "      <td>18:00:00</td>\n",
              "      <td>2022-10-28</td>\n",
              "      <td>21:00:00</td>\n",
              "      <td>2022-10-29</td>\n",
              "      <td>17:00:00</td>\n",
              "      <td>2022-10-29</td>\n",
              "      <td>20:00:00</td>\n",
              "      <td>\\N</td>\n",
              "      <td>\\N</td>\n",
              "    </tr>\n",
              "    <tr>\n",
              "      <th>1077</th>\n",
              "      <td>1095</td>\n",
              "      <td>2022</td>\n",
              "      <td>21</td>\n",
              "      <td>18</td>\n",
              "      <td>Brazilian Grand Prix</td>\n",
              "      <td>2022-11-13</td>\n",
              "      <td>18:00:00</td>\n",
              "      <td>http://en.wikipedia.org/wiki/2022_Brazilian_Gr...</td>\n",
              "      <td>2022-11-11</td>\n",
              "      <td>15:30:00</td>\n",
              "      <td>2022-11-12</td>\n",
              "      <td>15:30:00</td>\n",
              "      <td>\\N</td>\n",
              "      <td>\\N</td>\n",
              "      <td>2022-11-11</td>\n",
              "      <td>19:00:00</td>\n",
              "      <td>2022-11-12</td>\n",
              "      <td>19:30:00</td>\n",
              "    </tr>\n",
              "    <tr>\n",
              "      <th>1078</th>\n",
              "      <td>1096</td>\n",
              "      <td>2022</td>\n",
              "      <td>22</td>\n",
              "      <td>24</td>\n",
              "      <td>Abu Dhabi Grand Prix</td>\n",
              "      <td>2022-11-20</td>\n",
              "      <td>13:00:00</td>\n",
              "      <td>http://en.wikipedia.org/wiki/2022_Abu_Dhabi_Gr...</td>\n",
              "      <td>2022-11-18</td>\n",
              "      <td>09:00:00</td>\n",
              "      <td>2022-11-18</td>\n",
              "      <td>12:00:00</td>\n",
              "      <td>2022-11-19</td>\n",
              "      <td>10:00:00</td>\n",
              "      <td>2022-11-19</td>\n",
              "      <td>13:00:00</td>\n",
              "      <td>\\N</td>\n",
              "      <td>\\N</td>\n",
              "    </tr>\n",
              "  </tbody>\n",
              "</table>\n",
              "<p>1079 rows × 18 columns</p>\n",
              "</div>\n",
              "      <button class=\"colab-df-convert\" onclick=\"convertToInteractive('df-4e854c36-3509-4b86-8c58-887b90706d2a')\"\n",
              "              title=\"Convert this dataframe to an interactive table.\"\n",
              "              style=\"display:none;\">\n",
              "        \n",
              "  <svg xmlns=\"http://www.w3.org/2000/svg\" height=\"24px\"viewBox=\"0 0 24 24\"\n",
              "       width=\"24px\">\n",
              "    <path d=\"M0 0h24v24H0V0z\" fill=\"none\"/>\n",
              "    <path d=\"M18.56 5.44l.94 2.06.94-2.06 2.06-.94-2.06-.94-.94-2.06-.94 2.06-2.06.94zm-11 1L8.5 8.5l.94-2.06 2.06-.94-2.06-.94L8.5 2.5l-.94 2.06-2.06.94zm10 10l.94 2.06.94-2.06 2.06-.94-2.06-.94-.94-2.06-.94 2.06-2.06.94z\"/><path d=\"M17.41 7.96l-1.37-1.37c-.4-.4-.92-.59-1.43-.59-.52 0-1.04.2-1.43.59L10.3 9.45l-7.72 7.72c-.78.78-.78 2.05 0 2.83L4 21.41c.39.39.9.59 1.41.59.51 0 1.02-.2 1.41-.59l7.78-7.78 2.81-2.81c.8-.78.8-2.07 0-2.86zM5.41 20L4 18.59l7.72-7.72 1.47 1.35L5.41 20z\"/>\n",
              "  </svg>\n",
              "      </button>\n",
              "      \n",
              "  <style>\n",
              "    .colab-df-container {\n",
              "      display:flex;\n",
              "      flex-wrap:wrap;\n",
              "      gap: 12px;\n",
              "    }\n",
              "\n",
              "    .colab-df-convert {\n",
              "      background-color: #E8F0FE;\n",
              "      border: none;\n",
              "      border-radius: 50%;\n",
              "      cursor: pointer;\n",
              "      display: none;\n",
              "      fill: #1967D2;\n",
              "      height: 32px;\n",
              "      padding: 0 0 0 0;\n",
              "      width: 32px;\n",
              "    }\n",
              "\n",
              "    .colab-df-convert:hover {\n",
              "      background-color: #E2EBFA;\n",
              "      box-shadow: 0px 1px 2px rgba(60, 64, 67, 0.3), 0px 1px 3px 1px rgba(60, 64, 67, 0.15);\n",
              "      fill: #174EA6;\n",
              "    }\n",
              "\n",
              "    [theme=dark] .colab-df-convert {\n",
              "      background-color: #3B4455;\n",
              "      fill: #D2E3FC;\n",
              "    }\n",
              "\n",
              "    [theme=dark] .colab-df-convert:hover {\n",
              "      background-color: #434B5C;\n",
              "      box-shadow: 0px 1px 3px 1px rgba(0, 0, 0, 0.15);\n",
              "      filter: drop-shadow(0px 1px 2px rgba(0, 0, 0, 0.3));\n",
              "      fill: #FFFFFF;\n",
              "    }\n",
              "  </style>\n",
              "\n",
              "      <script>\n",
              "        const buttonEl =\n",
              "          document.querySelector('#df-4e854c36-3509-4b86-8c58-887b90706d2a button.colab-df-convert');\n",
              "        buttonEl.style.display =\n",
              "          google.colab.kernel.accessAllowed ? 'block' : 'none';\n",
              "\n",
              "        async function convertToInteractive(key) {\n",
              "          const element = document.querySelector('#df-4e854c36-3509-4b86-8c58-887b90706d2a');\n",
              "          const dataTable =\n",
              "            await google.colab.kernel.invokeFunction('convertToInteractive',\n",
              "                                                     [key], {});\n",
              "          if (!dataTable) return;\n",
              "\n",
              "          const docLinkHtml = 'Like what you see? Visit the ' +\n",
              "            '<a target=\"_blank\" href=https://colab.research.google.com/notebooks/data_table.ipynb>data table notebook</a>'\n",
              "            + ' to learn more about interactive tables.';\n",
              "          element.innerHTML = '';\n",
              "          dataTable['output_type'] = 'display_data';\n",
              "          await google.colab.output.renderOutput(dataTable, element);\n",
              "          const docLink = document.createElement('div');\n",
              "          docLink.innerHTML = docLinkHtml;\n",
              "          element.appendChild(docLink);\n",
              "        }\n",
              "      </script>\n",
              "    </div>\n",
              "  </div>\n",
              "  "
            ]
          },
          "metadata": {},
          "execution_count": 15
        }
      ]
    },
    {
      "cell_type": "markdown",
      "source": [
        ">**Ejercicio 1:** Obtener el promedio, mediana y moda de la columna `Limit` del  DataFrame `Credit`"
      ],
      "metadata": {
        "application/vnd.databricks.v1+cell": {
          "title": "",
          "showTitle": false,
          "inputWidgets": {},
          "nuid": "ecb6b1a5-0544-4c4a-a523-db86039e02f5"
        },
        "id": "-C3JlL566slh"
      }
    },
    {
      "cell_type": "code",
      "source": [
        "#Su código aquí\n"
      ],
      "metadata": {
        "application/vnd.databricks.v1+cell": {
          "title": "",
          "showTitle": false,
          "inputWidgets": {},
          "nuid": "d7927ba8-440b-4120-8e3e-aa4277aa063d"
        },
        "id": "cIi3paKV6slh"
      },
      "outputs": [],
      "execution_count": null
    },
    {
      "cell_type": "markdown",
      "source": [
        "### Solución"
      ],
      "metadata": {
        "id": "pAOFUmrA7Dhy"
      }
    },
    {
      "cell_type": "code",
      "source": [
        "print('Respuesta:')\n",
        "limite = Credit['Limit']\n",
        "print('Promedio:', limite.mean())\n",
        "print('Mediana:', limite.median())\n",
        "print('Moda:', limite.mode()[0])"
      ],
      "metadata": {
        "application/vnd.databricks.v1+cell": {
          "title": "",
          "showTitle": false,
          "inputWidgets": {},
          "nuid": "3e281d5f-fda0-4be0-a168-7bdaedbc8f8d"
        },
        "colab": {
          "base_uri": "https://localhost:8080/"
        },
        "id": "HP8JWZkY6slh",
        "outputId": "fb2a4caa-24c8-4b7c-fe83-e3d1a8322bf2"
      },
      "outputs": [
        {
          "output_type": "stream",
          "name": "stdout",
          "text": [
            "Respuesta:\n",
            "Promedio: 4735.6\n",
            "Mediana: 4622.5\n",
            "Moda: 855\n"
          ]
        }
      ],
      "execution_count": null
    },
    {
      "cell_type": "markdown",
      "source": [
        "## 3. Medidas de Dispersión"
      ],
      "metadata": {
        "application/vnd.databricks.v1+cell": {
          "title": "",
          "showTitle": false,
          "inputWidgets": {},
          "nuid": "c6390b99-8b13-4feb-871a-2ccaa3777b33"
        },
        "id": "m0dK7y896slh"
      }
    },
    {
      "cell_type": "markdown",
      "source": [
        "### Rango"
      ],
      "metadata": {
        "application/vnd.databricks.v1+cell": {
          "title": "",
          "showTitle": false,
          "inputWidgets": {},
          "nuid": "b017413a-cb33-4a2b-b22d-9c845396b341"
        },
        "id": "RmJwB9om6slh"
      }
    },
    {
      "cell_type": "code",
      "source": [
        "print(\"El ingreso mínimo es de:\", ingresos.min())\n",
        "print(\"El ingreso máximo es de:\", ingresos.max())\n",
        "print(\"El rango es igual a:\", ingresos.max()-ingresos.min())"
      ],
      "metadata": {
        "application/vnd.databricks.v1+cell": {
          "title": "",
          "showTitle": false,
          "inputWidgets": {},
          "nuid": "13b12715-3498-473c-97a0-2b9549ece97e"
        },
        "colab": {
          "base_uri": "https://localhost:8080/"
        },
        "id": "hV3qBNp96sli",
        "outputId": "3f61f02a-2bc4-48a9-b4bf-6c4fbd9ec4fe"
      },
      "outputs": [
        {
          "output_type": "stream",
          "name": "stdout",
          "text": [
            "El ingreso mínimo es de: 10.354000000000001\n",
            "El ingreso máximo es de: 186.63400000000001\n",
            "El rango es igual a: 176.28\n"
          ]
        }
      ],
      "execution_count": null
    },
    {
      "cell_type": "markdown",
      "source": [
        "### Varianza y Desviación Estándar\n",
        "* El argumento ```ddof``` hace referencia al denominador: ```N-ddof```\n",
        "* ```ddof=0``` si trabajamos con la población\n",
        "* ```ddof=1``` si trabajamos con la muestra"
      ],
      "metadata": {
        "application/vnd.databricks.v1+cell": {
          "title": "",
          "showTitle": false,
          "inputWidgets": {},
          "nuid": "c5d6ba53-5581-4ad8-9d4e-68d3506dfb2a"
        },
        "id": "b5FazGOu6sli"
      }
    },
    {
      "cell_type": "code",
      "source": [
        "print(\"La varianza en la población es igual a:\", ingresos.var(ddof=0))\n",
        "print(\"La desviación estandar en la población es igual a:\", ingresos.std(ddof=0))"
      ],
      "metadata": {
        "application/vnd.databricks.v1+cell": {
          "title": "",
          "showTitle": false,
          "inputWidgets": {},
          "nuid": "3e686fe4-7ca9-4d9e-9934-7321149f9a34"
        },
        "colab": {
          "base_uri": "https://localhost:8080/"
        },
        "id": "nHg9l3aS6sli",
        "outputId": "b71c0e97-40a3-4e2f-8146-acb6aec10d6e"
      },
      "outputs": [
        {
          "output_type": "stream",
          "name": "stdout",
          "text": [
            "La varianza en la población es igual a: 1239.0533939567745\n",
            "La desviación estandar en la población es igual a: 35.20019025455366\n"
          ]
        }
      ],
      "execution_count": null
    },
    {
      "cell_type": "code",
      "source": [
        "print(\"La varianza en la muestra es igual a:\", ingresos.var(ddof=1))\n",
        "print(\"La desviación estandar en la muestra es igual a:\", ingresos.std(ddof=1))"
      ],
      "metadata": {
        "application/vnd.databricks.v1+cell": {
          "title": "",
          "showTitle": false,
          "inputWidgets": {},
          "nuid": "a639cba4-5153-44e2-8765-36c7b6cd4bbf"
        },
        "colab": {
          "base_uri": "https://localhost:8080/"
        },
        "id": "FubjsUvh6sli",
        "outputId": "04b93b66-26e7-4a63-b755-e36f19d33c5b"
      },
      "outputs": [
        {
          "output_type": "stream",
          "name": "stdout",
          "text": [
            "La varianza en la muestra es igual a: 1242.1587909341097\n",
            "La desviación estandar en la muestra es igual a: 35.24427316507052\n"
          ]
        }
      ],
      "execution_count": null
    },
    {
      "cell_type": "markdown",
      "source": [
        "De forma predeterminada, el método ```var()``` calcula la varianza asumiendo que se trabaja con una muestra. Si no queremos utilizar el argumento ```ddof``` podemos corregir el valor por medio del siguiente truco algebráico."
      ],
      "metadata": {
        "application/vnd.databricks.v1+cell": {
          "title": "",
          "showTitle": false,
          "inputWidgets": {},
          "nuid": "c0649eae-277d-4cef-bce0-e20ca238271e"
        },
        "id": "r_L9ZP3L6sli"
      }
    },
    {
      "cell_type": "code",
      "source": [
        "ingresos.var()*(len(ingresos)-1)/len(ingresos)"
      ],
      "metadata": {
        "application/vnd.databricks.v1+cell": {
          "title": "",
          "showTitle": false,
          "inputWidgets": {},
          "nuid": "aac9193c-7e33-4a75-8902-036fae67af48"
        },
        "colab": {
          "base_uri": "https://localhost:8080/"
        },
        "id": "L9KnBfIG6sli",
        "outputId": "d05ffc3e-472c-4c4e-da92-ae57ee4f1795"
      },
      "outputs": [
        {
          "output_type": "execute_result",
          "data": {
            "text/plain": [
              "1239.0533939567745"
            ]
          },
          "metadata": {},
          "execution_count": 62
        }
      ],
      "execution_count": null
    },
    {
      "cell_type": "markdown",
      "source": [
        ">**Ejercicio 2:** Obtener el rango, la varianza muestral y la desviación estándar muestral de la columna `Balance` del  DataFrame `Credit`"
      ],
      "metadata": {
        "application/vnd.databricks.v1+cell": {
          "title": "",
          "showTitle": false,
          "inputWidgets": {},
          "nuid": "577631eb-b323-4e72-8e70-6329cf18bce0"
        },
        "id": "2stB9VK16slj"
      }
    },
    {
      "cell_type": "code",
      "source": [
        "#Su código aquí\n",
        "balance = Credit['Balance']"
      ],
      "metadata": {
        "application/vnd.databricks.v1+cell": {
          "title": "",
          "showTitle": false,
          "inputWidgets": {},
          "nuid": "23bf971b-2b15-4ed4-9d89-538cfcc57ffe"
        },
        "id": "svRT54QF6slj"
      },
      "outputs": [],
      "execution_count": 7
    },
    {
      "cell_type": "code",
      "source": [
        "print (\"El balance minimo es de: \", balance.min())\n",
        "print (\"El balance maximo es de: \", balance.max())\n",
        "print (\"El rango es igual a: \", balance.max()-balance.min())"
      ],
      "metadata": {
        "colab": {
          "base_uri": "https://localhost:8080/"
        },
        "id": "PXCNvuF9KjVT",
        "outputId": "c0becb94-623c-485d-99bb-5fb673933afa"
      },
      "execution_count": 8,
      "outputs": [
        {
          "output_type": "stream",
          "name": "stdout",
          "text": [
            "El balance minimo es de:  0\n",
            "El balance maximo es de:  1999\n",
            "El rango es igual a:  1999\n"
          ]
        }
      ]
    },
    {
      "cell_type": "code",
      "source": [
        "print(\"La varianza en la muestra es igual a:\", balance.var(ddof=1))\n",
        "print(\"La desviación estandar en la muestra es igual a:\", balance.std(ddof=1))"
      ],
      "metadata": {
        "colab": {
          "base_uri": "https://localhost:8080/"
        },
        "id": "fOaAJMRzLZpF",
        "outputId": "0a0c9f38-9294-4bb0-9677-b0e79b3f3497"
      },
      "execution_count": 9,
      "outputs": [
        {
          "output_type": "stream",
          "name": "stdout",
          "text": [
            "La varianza en la muestra es igual a: 211378.22533834586\n",
            "La desviación estandar en la muestra es igual a: 459.75887738938314\n"
          ]
        }
      ]
    },
    {
      "cell_type": "markdown",
      "source": [
        "### Solución"
      ],
      "metadata": {
        "id": "PPjEZvbb7J6R"
      }
    },
    {
      "cell_type": "code",
      "source": [
        "print('Respuesta:')\n",
        "saldo_tc = Credit['Balance']\n",
        "print('Rango:', saldo_tc.max()-saldo_tc.min())\n",
        "print('Varianza muestral:', saldo_tc.var(ddof=1))\n",
        "print('Desv. estándar muestral:', saldo_tc.std(ddof=1))"
      ],
      "metadata": {
        "application/vnd.databricks.v1+cell": {
          "title": "",
          "showTitle": false,
          "inputWidgets": {},
          "nuid": "682d439e-8883-4ca2-bcab-dc46c7353a3f"
        },
        "colab": {
          "base_uri": "https://localhost:8080/"
        },
        "id": "b8uYa9ZS6slj",
        "outputId": "ef91500b-22ef-4ca5-d3c0-bfc14d67e970"
      },
      "outputs": [
        {
          "output_type": "stream",
          "name": "stdout",
          "text": [
            "Respuesta:\n",
            "Rango: 1999\n",
            "Varianza muestral: 211378.22533834612\n",
            "Desv. estándar muestral: 459.75887738938343\n"
          ]
        }
      ],
      "execution_count": null
    },
    {
      "cell_type": "markdown",
      "source": [
        "## 4. Medidas de Posición\n",
        "El método ```describe()``` muestra de forma predeterminada los cuartiles sin embargo, podemos requerir otras medidas de posición de acuerdo a lo que se necesite."
      ],
      "metadata": {
        "application/vnd.databricks.v1+cell": {
          "title": "",
          "showTitle": false,
          "inputWidgets": {},
          "nuid": "15d5b2c1-ecf4-4a16-a616-071e0abd5ad9"
        },
        "id": "pPk9JnFj6slj"
      }
    },
    {
      "cell_type": "code",
      "source": [
        "ingresos.describe()"
      ],
      "metadata": {
        "application/vnd.databricks.v1+cell": {
          "title": "",
          "showTitle": false,
          "inputWidgets": {},
          "nuid": "4fb8b55c-c263-4f51-b004-e8d80063f494"
        },
        "colab": {
          "base_uri": "https://localhost:8080/"
        },
        "id": "VtOoeWpr6slj",
        "outputId": "6aaa1805-7ed2-4aea-aa46-0e904ef17dc7"
      },
      "outputs": [
        {
          "output_type": "execute_result",
          "data": {
            "text/plain": [
              "count    400.000000\n",
              "mean      45.218885\n",
              "std       35.244273\n",
              "min       10.354000\n",
              "25%       21.007250\n",
              "50%       33.115500\n",
              "75%       57.470750\n",
              "max      186.634000\n",
              "Name: Income, dtype: float64"
            ]
          },
          "metadata": {},
          "execution_count": 65
        }
      ],
      "execution_count": null
    },
    {
      "cell_type": "code",
      "source": [
        "# Percentil 50\n",
        "ingresos.quantile(0.50)"
      ],
      "metadata": {
        "application/vnd.databricks.v1+cell": {
          "title": "",
          "showTitle": false,
          "inputWidgets": {},
          "nuid": "1b1d4731-1a85-40db-a7dd-b119c99a067a"
        },
        "colab": {
          "base_uri": "https://localhost:8080/"
        },
        "id": "zFRR5e176slj",
        "outputId": "77ed97bd-968d-442b-9ced-57df186c2884"
      },
      "outputs": [
        {
          "output_type": "execute_result",
          "data": {
            "text/plain": [
              "33.1155"
            ]
          },
          "metadata": {},
          "execution_count": 66
        }
      ],
      "execution_count": null
    },
    {
      "cell_type": "markdown",
      "source": [
        "El argumento del método ```quantile()``` puede ser también un arreglo numérico. Utilizaremos la función ```arange``` de ```numpy``` para crear un arreglo para el cálculo de deciles"
      ],
      "metadata": {
        "application/vnd.databricks.v1+cell": {
          "title": "",
          "showTitle": false,
          "inputWidgets": {},
          "nuid": "1488ce31-2a5a-4fc0-a4f3-1c82dbb79a91"
        },
        "id": "I79a8kCK6slk"
      }
    },
    {
      "cell_type": "code",
      "source": [
        "np.arange(start=0.1, stop=1, step=0.1)"
      ],
      "metadata": {
        "application/vnd.databricks.v1+cell": {
          "title": "",
          "showTitle": false,
          "inputWidgets": {},
          "nuid": "7852f4a7-f7e8-4e64-a783-5f326132b38b"
        },
        "colab": {
          "base_uri": "https://localhost:8080/"
        },
        "id": "lOJcNvL86slk",
        "outputId": "9a3ba64e-2825-4d23-996a-a544045a3c57"
      },
      "outputs": [
        {
          "output_type": "execute_result",
          "data": {
            "text/plain": [
              "array([0.1, 0.2, 0.3, 0.4, 0.5, 0.6, 0.7, 0.8, 0.9])"
            ]
          },
          "metadata": {},
          "execution_count": 67
        }
      ],
      "execution_count": null
    },
    {
      "cell_type": "code",
      "source": [
        "ingresos.quantile(np.arange(0.1, 1, 0.1))"
      ],
      "metadata": {
        "application/vnd.databricks.v1+cell": {
          "title": "",
          "showTitle": false,
          "inputWidgets": {},
          "nuid": "9704dd59-a6f4-4b26-a678-7ce7739beaf8"
        },
        "colab": {
          "base_uri": "https://localhost:8080/"
        },
        "id": "QqE9DFqM6slk",
        "outputId": "ae9ce2b1-771a-4232-e9d0-c4606ad9778b"
      },
      "outputs": [
        {
          "output_type": "execute_result",
          "data": {
            "text/plain": [
              "0.1    14.5834\n",
              "0.2    19.2088\n",
              "0.3    23.7567\n",
              "0.4    27.8126\n",
              "0.5    33.1155\n",
              "0.6    40.0754\n",
              "0.7    51.9641\n",
              "0.8    63.8334\n",
              "0.9    92.4513\n",
              "Name: Income, dtype: float64"
            ]
          },
          "metadata": {},
          "execution_count": 68
        }
      ],
      "execution_count": null
    },
    {
      "cell_type": "markdown",
      "source": [
        "### Rango Intercuartil (IQR)\n",
        "Medida de dispersión a ser utilizada cuando se emplea la mediana como medida de tendencia central.\n",
        "Se define como la diferencia entre el tercer cuartil (Q3) y el primer cuartil (Q1), es decir: $$IRQ = Q3 - Q1$$."
      ],
      "metadata": {
        "application/vnd.databricks.v1+cell": {
          "title": "",
          "showTitle": false,
          "inputWidgets": {},
          "nuid": "57fc160c-d3d9-41ed-b5d6-f707bc5666fe"
        },
        "id": "7gNaVHhc6slk"
      }
    },
    {
      "cell_type": "code",
      "source": [
        "stats.iqr(ingresos)"
      ],
      "metadata": {
        "application/vnd.databricks.v1+cell": {
          "title": "",
          "showTitle": false,
          "inputWidgets": {},
          "nuid": "fd266769-da7d-401f-b5da-c831913051b5"
        },
        "colab": {
          "base_uri": "https://localhost:8080/"
        },
        "id": "rbd5sqkx6slk",
        "outputId": "42164393-ab04-4c84-8748-db02c2b3ce7f"
      },
      "outputs": [
        {
          "output_type": "execute_result",
          "data": {
            "text/plain": [
              "36.463499999999996"
            ]
          },
          "metadata": {},
          "execution_count": 69
        }
      ],
      "execution_count": null
    },
    {
      "cell_type": "code",
      "source": [
        "ingresos.quantile(0.75) - ingresos.quantile(0.25)"
      ],
      "metadata": {
        "application/vnd.databricks.v1+cell": {
          "title": "",
          "showTitle": false,
          "inputWidgets": {},
          "nuid": "ce1dac0d-a6da-4776-8a3f-0184dd059e13"
        },
        "colab": {
          "base_uri": "https://localhost:8080/"
        },
        "id": "-Gc-E-p06slk",
        "outputId": "ade7638a-3219-46c6-ecc5-488d62ec3214"
      },
      "outputs": [
        {
          "output_type": "execute_result",
          "data": {
            "text/plain": [
              "36.463499999999996"
            ]
          },
          "metadata": {},
          "execution_count": 70
        }
      ],
      "execution_count": null
    },
    {
      "cell_type": "code",
      "source": [
        "sns.boxplot(x=ingresos,color = \"darkgreen\") \n",
        "plt.title(\"Boxplot de los Ingresos\")\n",
        "plt.xlabel(\"Dólares\")\n",
        "plt.show()"
      ],
      "metadata": {
        "application/vnd.databricks.v1+cell": {
          "title": "",
          "showTitle": false,
          "inputWidgets": {},
          "nuid": "f9a1639f-df57-44ba-8dfa-95dcd1b4774d"
        },
        "colab": {
          "base_uri": "https://localhost:8080/"
        },
        "id": "uLwgA5xM6slk",
        "outputId": "eac49672-58a2-4310-bd5c-996d00d0933e"
      },
      "outputs": [
        {
          "output_type": "display_data",
          "data": {
            "image/png": "[encoded data removed]",
            "text/plain": [
              "<Figure size 432x288 with 1 Axes>"
            ]
          },
          "metadata": {
            "needs_background": "light"
          }
        }
      ],
      "execution_count": null
    },
    {
      "cell_type": "code",
      "source": [
        "sns.boxplot(x=ingresos, color=\"darkgreen\", whis=1.5) \n",
        "plt.title(\"Boxplot de los Ingresos\")\n",
        "plt.xlabel(\"Dólares\")\n",
        "plt.axvline(ingresos.quantile(0.25), color='yellow', label='Q1')\n",
        "plt.axvline(mediana, color='blue', label='Q2/Mediana')\n",
        "plt.axvline(ingresos.quantile(0.75), color='red', label='Q3')\n",
        "plt.legend()\n",
        "plt.show()"
      ],
      "metadata": {
        "application/vnd.databricks.v1+cell": {
          "title": "",
          "showTitle": false,
          "inputWidgets": {},
          "nuid": "efda9bac-85d1-4b75-b313-751a7194d558"
        },
        "colab": {
          "base_uri": "https://localhost:8080/"
        },
        "id": "aIs-rw0f6sll",
        "outputId": "e532fe2a-a8f9-4182-8123-ca1617889cf4"
      },
      "outputs": [
        {
          "output_type": "display_data",
          "data": {
            "image/png": "[encoded data removed]",
            "text/plain": [
              "<Figure size 432x288 with 1 Axes>"
            ]
          },
          "metadata": {
            "needs_background": "light"
          }
        }
      ],
      "execution_count": null
    },
    {
      "cell_type": "code",
      "source": [
        "sns.boxplot(x=ingresos, y=Credit[\"Gender\"], whis=1.5) \n",
        "plt.title(\"Boxplot de los Ingresos\")\n",
        "plt.xlabel(\"Dólares\")\n",
        "plt.legend()\n",
        "plt.show()"
      ],
      "metadata": {
        "application/vnd.databricks.v1+cell": {
          "title": "",
          "showTitle": false,
          "inputWidgets": {},
          "nuid": "ffc958e8-735f-42f2-a4ce-1db4db2f5db8"
        },
        "colab": {
          "base_uri": "https://localhost:8080/"
        },
        "id": "ezPmKwru6sll",
        "outputId": "f4c8b522-fcae-4ba4-da46-2bc04ba05381"
      },
      "outputs": [
        {
          "output_type": "stream",
          "name": "stderr",
          "text": [
            "No handles with labels found to put in legend.\n"
          ]
        },
        {
          "output_type": "display_data",
          "data": {
            "image/png": "[encoded data removed]",
            "text/plain": [
              "<Figure size 432x288 with 1 Axes>"
            ]
          },
          "metadata": {
            "needs_background": "light"
          }
        }
      ],
      "execution_count": null
    },
    {
      "cell_type": "code",
      "source": [
        "sns.boxplot(x=ingresos, y=Credit[\"Ethnicity\"]) \n",
        "plt.title(\"Boxplot de los Ingresos por Etnia\")\n",
        "plt.xlabel(\"Dólares\")\n",
        "plt.legend()\n",
        "plt.show()"
      ],
      "metadata": {
        "application/vnd.databricks.v1+cell": {
          "title": "",
          "showTitle": false,
          "inputWidgets": {},
          "nuid": "a975abaa-4c68-4ec3-9b44-fae71ed5405a"
        },
        "colab": {
          "base_uri": "https://localhost:8080/"
        },
        "id": "3_uHuuf96sll",
        "outputId": "209b2a07-e6a9-4453-f8d1-b649049bb4e4"
      },
      "outputs": [
        {
          "output_type": "stream",
          "name": "stderr",
          "text": [
            "No handles with labels found to put in legend.\n"
          ]
        },
        {
          "output_type": "display_data",
          "data": {
            "image/png": "[encoded data removed]",
            "text/plain": [
              "<Figure size 432x288 with 1 Axes>"
            ]
          },
          "metadata": {
            "needs_background": "light"
          }
        }
      ],
      "execution_count": null
    },
    {
      "cell_type": "markdown",
      "source": [
        "### Valores atípicos/extremos\n",
        "Se definen como observaciones extremas a aquellas que se encuentran fuera del rango $$[Q_1-(1.5 \\times IQR) ; Q_3 +(1.5 \\times IQR)]$$"
      ],
      "metadata": {
        "application/vnd.databricks.v1+cell": {
          "title": "",
          "showTitle": false,
          "inputWidgets": {},
          "nuid": "8e9f473d-3eb9-487a-b701-c399461939ca"
        },
        "id": "mKScJPhB6sll"
      }
    },
    {
      "cell_type": "code",
      "source": [
        "IQR  = stats.iqr(ingresos)\n",
        "whis = 1.5\n",
        "cons = IQR * whis\n",
        "\n",
        "#Cuartiles\n",
        "Q1   = ingresos.quantile(0.25)\n",
        "Q3   = ingresos.quantile(0.75)\n",
        "\n",
        "print(\"El límite inferior para valores extremos es:\", (Q1-cons))\n",
        "print(\"El límite superior para valores extremos es:\", (Q3+cons))"
      ],
      "metadata": {
        "application/vnd.databricks.v1+cell": {
          "title": "",
          "showTitle": false,
          "inputWidgets": {},
          "nuid": "b8542c89-e2d5-4ed3-b29b-59aa1659ecd8"
        },
        "colab": {
          "base_uri": "https://localhost:8080/"
        },
        "id": "qXJeTpOU6sll",
        "outputId": "182eed75-a404-46a7-b317-020b00c32740"
      },
      "outputs": [
        {
          "output_type": "stream",
          "name": "stdout",
          "text": [
            "El límite inferior para valores extremos es: -33.687999999999995\n",
            "El límite superior para valores extremos es: 112.166\n"
          ]
        }
      ],
      "execution_count": null
    },
    {
      "cell_type": "code",
      "source": [
        "sns.boxplot(x=ingresos, color=\"darkgreen\", whis=1.5) \n",
        "plt.title(\"Boxplot de los Ingresos\")\n",
        "plt.xlabel(\"Dólares\")\n",
        "plt.axvline(Q3+cons, color='blue', label='Lim. Superior')\n",
        "plt.legend()\n",
        "plt.show()"
      ],
      "metadata": {
        "application/vnd.databricks.v1+cell": {
          "title": "",
          "showTitle": false,
          "inputWidgets": {},
          "nuid": "9f6767e6-fb95-493b-b003-c2237a3fe4a1"
        },
        "colab": {
          "base_uri": "https://localhost:8080/",
          "height": 295
        },
        "id": "rPxmKUwl6sll",
        "outputId": "155d872d-4462-4d86-a271-29d30cee3be2"
      },
      "outputs": [
        {
          "output_type": "display_data",
          "data": {
            "image/png": "[encoded data removed]",
            "text/plain": [
              "<Figure size 432x288 with 1 Axes>"
            ]
          },
          "metadata": {
            "needs_background": "light"
          }
        }
      ],
      "execution_count": null
    },
    {
      "cell_type": "markdown",
      "source": [
        ">**Ejercicio 3:** Encuentre los quintiles y el rango intercuartil de la columna `Education` del  DataFrame `Credit`"
      ],
      "metadata": {
        "application/vnd.databricks.v1+cell": {
          "title": "",
          "showTitle": false,
          "inputWidgets": {},
          "nuid": "f3eed898-3df7-4c31-941f-13a7fe21f7d1"
        },
        "id": "qVC-sczy6sll"
      }
    },
    {
      "cell_type": "code",
      "source": [
        "#Su código aquí\n"
      ],
      "metadata": {
        "application/vnd.databricks.v1+cell": {
          "title": "",
          "showTitle": false,
          "inputWidgets": {},
          "nuid": "e96162e7-5614-49c6-af69-b9e175e7cd91"
        },
        "id": "LGczxyPA6sll"
      },
      "outputs": [],
      "execution_count": null
    },
    {
      "cell_type": "markdown",
      "source": [
        "### Solución"
      ],
      "metadata": {
        "id": "MdjY9Z2L7SmB"
      }
    },
    {
      "cell_type": "code",
      "source": [
        "print('Respuesta:')\n",
        "educacion = Credit['Education']\n",
        "print('Quintiles:', educacion.quantile(np.arange(0.2, 1, 0.2)))\n",
        "print('\\nIQR Educación:', stats.iqr(educacion))"
      ],
      "metadata": {
        "application/vnd.databricks.v1+cell": {
          "title": "",
          "showTitle": false,
          "inputWidgets": {},
          "nuid": "fd1f0c1f-b878-4ff5-ab82-74086c087df5"
        },
        "colab": {
          "base_uri": "https://localhost:8080/"
        },
        "id": "sm28se836slm",
        "outputId": "11e3a837-43a2-4ec2-d7ec-2f0b13df9fc4"
      },
      "outputs": [
        {
          "output_type": "stream",
          "name": "stdout",
          "text": [
            "Respuesta:\n",
            "Quintiles: 0.2    11.0\n",
            "0.4    13.0\n",
            "0.6    15.0\n",
            "0.8    16.0\n",
            "Name: Education, dtype: float64\n",
            "\n",
            "IQR Educación: 5.0\n"
          ]
        }
      ],
      "execution_count": null
    },
    {
      "cell_type": "markdown",
      "source": [
        "## 5. Medidas de Forma\n",
        "Interprete el coeficiente de asimetría y la curtosis"
      ],
      "metadata": {
        "application/vnd.databricks.v1+cell": {
          "title": "",
          "showTitle": false,
          "inputWidgets": {},
          "nuid": "73628cfc-7de0-48f1-b37a-5fd1f75ff918"
        },
        "id": "NUHwCpRF6slm"
      }
    },
    {
      "cell_type": "code",
      "source": [
        "print(\"El coeficiente de asimetría es igual a:\", ingresos.skew())\n",
        "print(\"La curtosis es igual a:\", ingresos.kurtosis())"
      ],
      "metadata": {
        "application/vnd.databricks.v1+cell": {
          "title": "",
          "showTitle": false,
          "inputWidgets": {},
          "nuid": "c1d61256-baee-41ff-99df-34f35264debf"
        },
        "colab": {
          "base_uri": "https://localhost:8080/"
        },
        "id": "xOHf02cq6slm",
        "outputId": "78349c97-8f3b-49cc-a4b8-eecd54f9b102"
      },
      "outputs": [
        {
          "output_type": "stream",
          "name": "stdout",
          "text": [
            "El coeficiente de asimetría es igual a: 1.742117404958152\n",
            "La curtosis es igual a: 2.947476431306625\n"
          ]
        }
      ],
      "execution_count": null
    },
    {
      "cell_type": "code",
      "source": [
        "sns.displot(ingresos, color=\"darkred\", kde=True)\n",
        "plt.title(\"Ingresos\")\n",
        "plt.xlabel(\"Dólares\")\n",
        "plt.ylabel(\"Frecuencia Absoluta\")\n",
        "plt.axvline(media, color='red', label='Promedio')\n",
        "plt.axvline(mediana, color='yellow', label='Mediana')\n",
        "plt.axvline(moda[0], color='green', label='Moda')\n",
        "plt.legend()\n",
        "plt.show()"
      ],
      "metadata": {
        "application/vnd.databricks.v1+cell": {
          "title": "",
          "showTitle": false,
          "inputWidgets": {},
          "nuid": "969868c9-8331-464a-93a4-b57e83c3064d"
        },
        "colab": {
          "base_uri": "https://localhost:8080/",
          "height": 385
        },
        "id": "kbhPvj8o6slm",
        "outputId": "b7883eeb-df3c-455e-a85a-f0343677c386"
      },
      "outputs": [
        {
          "output_type": "display_data",
          "data": {
            "image/png": "[encoded data removed]",
            "text/plain": [
              "<Figure size 360x360 with 1 Axes>"
            ]
          },
          "metadata": {
            "needs_background": "light"
          }
        }
      ],
      "execution_count": null
    },
    {
      "cell_type": "markdown",
      "source": [
        ">**Ejercicio 4:** Obtenga el coeficiente de asimetría y la curtosis de la columna `Rating` del  DataFrame `Credit`"
      ],
      "metadata": {
        "application/vnd.databricks.v1+cell": {
          "title": "",
          "showTitle": false,
          "inputWidgets": {},
          "nuid": "36f6de66-da9c-404e-bfed-bdcd5a57f2ec"
        },
        "id": "58nXtOkL6slm"
      }
    },
    {
      "cell_type": "code",
      "source": [
        "# Su código aquí\n"
      ],
      "metadata": {
        "application/vnd.databricks.v1+cell": {
          "title": "",
          "showTitle": false,
          "inputWidgets": {},
          "nuid": "2799d2a4-bf14-478d-a5e2-1a676283221d"
        },
        "id": "VDPqYQCz6slm"
      },
      "outputs": [],
      "execution_count": null
    },
    {
      "cell_type": "markdown",
      "source": [
        "### Solución"
      ],
      "metadata": {
        "id": "nmr0StaP7W0_"
      }
    },
    {
      "cell_type": "code",
      "source": [
        "print('Respuesta:')\n",
        "puntaje = Credit['Rating']\n",
        "print('Coeficiente de asimetría:', puntaje.skew())\n",
        "print('Curtosis:', puntaje.kurtosis())"
      ],
      "metadata": {
        "application/vnd.databricks.v1+cell": {
          "title": "",
          "showTitle": false,
          "inputWidgets": {},
          "nuid": "3f1e1b67-a1b0-4a98-b1f9-3418b5e3a5f7"
        },
        "colab": {
          "base_uri": "https://localhost:8080/"
        },
        "id": "6L1B7ViJ6slm",
        "outputId": "32ea4dca-e15c-452c-d400-aba812f3da77"
      },
      "outputs": [
        {
          "output_type": "stream",
          "name": "stdout",
          "text": [
            "Respuesta:\n",
            "Coeficiente de asimetría: 0.8653935227370102\n",
            "Curtosis: 1.0609469816702823\n"
          ]
        }
      ],
      "execution_count": null
    },
    {
      "cell_type": "markdown",
      "source": [
        "## 6. Distribución Normal"
      ],
      "metadata": {
        "application/vnd.databricks.v1+cell": {
          "title": "",
          "showTitle": false,
          "inputWidgets": {},
          "nuid": "c2de61ea-cd9c-42e8-82c5-f9ade14e5afc"
        },
        "id": "syrhPojO6slm"
      }
    },
    {
      "cell_type": "code",
      "source": [
        "data = np.random.normal(0, 1, 50000)\n",
        "\n",
        "print(\"mean : \", np.mean(data))\n",
        "print(\"var  : \", np.var(data))\n",
        "print(\"skew : \",stats.skew(data))\n",
        "print(\"kurt : \",stats.kurtosis(data))"
      ],
      "metadata": {
        "application/vnd.databricks.v1+cell": {
          "title": "",
          "showTitle": false,
          "inputWidgets": {},
          "nuid": "b7042993-0db2-40e8-a911-9762f06ba27d"
        },
        "colab": {
          "base_uri": "https://localhost:8080/"
        },
        "id": "k0V2qq2Y6slm",
        "outputId": "e66e6ff7-6e32-411a-e273-043897af0888"
      },
      "outputs": [
        {
          "output_type": "stream",
          "name": "stdout",
          "text": [
            "mean :  -0.001784404744844449\n",
            "var  :  0.9977197866320777\n",
            "skew :  -0.0016445000080465128\n",
            "kurt :  0.0065899786305605446\n"
          ]
        }
      ],
      "execution_count": null
    },
    {
      "cell_type": "code",
      "source": [
        "sns.displot(data, color=\"darkgreen\", kde=True)\n",
        "plt.title(\"Distribución Normal\")\n",
        "plt.xlabel(\"Valores\")\n",
        "plt.ylabel(\"Frecuencia Absoluta\")\n",
        "plt.show()"
      ],
      "metadata": {
        "application/vnd.databricks.v1+cell": {
          "title": "",
          "showTitle": false,
          "inputWidgets": {},
          "nuid": "bec9a330-9423-4d7e-b8f6-10e1581c4377"
        },
        "colab": {
          "base_uri": "https://localhost:8080/",
          "height": 399
        },
        "id": "9WToTwWI6slm",
        "outputId": "63991e53-de51-4329-c50c-24ea5cfb1cbd"
      },
      "outputs": [
        {
          "output_type": "display_data",
          "data": {
            "image/png": "[encoded data removed]",
            "text/plain": [
              "<Figure size 360x360 with 1 Axes>"
            ]
          },
          "metadata": {
            "needs_background": "light"
          }
        }
      ],
      "execution_count": null
    },
    {
      "cell_type": "markdown",
      "source": [
        "## 7. Covarianza y correlación\n",
        "\n",
        "Analizar las relaciones **lineales** entre dos variables cuantitativas por medio de la covarianza y correlación.\n",
        "\n",
        "- **Covarianza**: Nos da el signo de la relación entre dos variables, pero no podemos determinar la intensidad en la relación entre las mismas\n",
        "- **Coeficiente de correlación de Person**: Nos permite entender la relación entre las variables tanto su dirección (signo) e intensidad (valor). Se encuentra entre los valores de -1 y 1"
      ],
      "metadata": {
        "application/vnd.databricks.v1+cell": {
          "title": "",
          "showTitle": false,
          "inputWidgets": {},
          "nuid": "e4e15c8b-2735-4a53-a6e9-c6be468fad54"
        },
        "id": "8UdilNEu6sln"
      }
    },
    {
      "cell_type": "code",
      "source": [
        "# Matriz de varianzas y covarianzas\n",
        "Credit\\\n",
        ".cov()\\\n",
        ".round(decimals=2)"
      ],
      "metadata": {
        "application/vnd.databricks.v1+cell": {
          "title": "",
          "showTitle": false,
          "inputWidgets": {},
          "nuid": "863f418b-cb57-4024-9303-c64b41c1d608"
        },
        "colab": {
          "base_uri": "https://localhost:8080/",
          "height": 269
        },
        "id": "uR2mo_sJ6sln",
        "outputId": "71a78033-7c9e-4575-d8e9-d4db5a726d23"
      },
      "outputs": [
        {
          "output_type": "execute_result",
          "data": {
            "text/html": [
              "\n",
              "  <div id=\"df-7bbf24c4-4aba-4897-96fc-57918a325bc6\">\n",
              "    <div class=\"colab-df-container\">\n",
              "      <div>\n",
              "<style scoped>\n",
              "    .dataframe tbody tr th:only-of-type {\n",
              "        vertical-align: middle;\n",
              "    }\n",
              "\n",
              "    .dataframe tbody tr th {\n",
              "        vertical-align: top;\n",
              "    }\n",
              "\n",
              "    .dataframe thead th {\n",
              "        text-align: right;\n",
              "    }\n",
              "</style>\n",
              "<table border=\"1\" class=\"dataframe\">\n",
              "  <thead>\n",
              "    <tr style=\"text-align: right;\">\n",
              "      <th></th>\n",
              "      <th>Income</th>\n",
              "      <th>Limit</th>\n",
              "      <th>Rating</th>\n",
              "      <th>Cards</th>\n",
              "      <th>Age</th>\n",
              "      <th>Education</th>\n",
              "      <th>Balance</th>\n",
              "    </tr>\n",
              "  </thead>\n",
              "  <tbody>\n",
              "    <tr>\n",
              "      <th>Income</th>\n",
              "      <td>1242.16</td>\n",
              "      <td>64437.01</td>\n",
              "      <td>4315.49</td>\n",
              "      <td>-0.88</td>\n",
              "      <td>106.60</td>\n",
              "      <td>-3.05</td>\n",
              "      <td>7513.03</td>\n",
              "    </tr>\n",
              "    <tr>\n",
              "      <th>Limit</th>\n",
              "      <td>64437.01</td>\n",
              "      <td>5327781.92</td>\n",
              "      <td>356019.74</td>\n",
              "      <td>32.38</td>\n",
              "      <td>4016.95</td>\n",
              "      <td>-169.87</td>\n",
              "      <td>914445.99</td>\n",
              "    </tr>\n",
              "    <tr>\n",
              "      <th>Rating</th>\n",
              "      <td>4315.49</td>\n",
              "      <td>356019.74</td>\n",
              "      <td>23939.56</td>\n",
              "      <td>11.30</td>\n",
              "      <td>275.34</td>\n",
              "      <td>-14.57</td>\n",
              "      <td>61434.67</td>\n",
              "    </tr>\n",
              "    <tr>\n",
              "      <th>Cards</th>\n",
              "      <td>-0.88</td>\n",
              "      <td>32.38</td>\n",
              "      <td>11.30</td>\n",
              "      <td>1.88</td>\n",
              "      <td>1.02</td>\n",
              "      <td>-0.22</td>\n",
              "      <td>54.51</td>\n",
              "    </tr>\n",
              "    <tr>\n",
              "      <th>Age</th>\n",
              "      <td>106.60</td>\n",
              "      <td>4016.95</td>\n",
              "      <td>275.34</td>\n",
              "      <td>1.02</td>\n",
              "      <td>297.56</td>\n",
              "      <td>0.20</td>\n",
              "      <td>14.55</td>\n",
              "    </tr>\n",
              "    <tr>\n",
              "      <th>Education</th>\n",
              "      <td>-3.05</td>\n",
              "      <td>-169.87</td>\n",
              "      <td>-14.57</td>\n",
              "      <td>-0.22</td>\n",
              "      <td>0.20</td>\n",
              "      <td>9.77</td>\n",
              "      <td>-11.58</td>\n",
              "    </tr>\n",
              "    <tr>\n",
              "      <th>Balance</th>\n",
              "      <td>7513.03</td>\n",
              "      <td>914445.99</td>\n",
              "      <td>61434.67</td>\n",
              "      <td>54.51</td>\n",
              "      <td>14.55</td>\n",
              "      <td>-11.58</td>\n",
              "      <td>211378.23</td>\n",
              "    </tr>\n",
              "  </tbody>\n",
              "</table>\n",
              "</div>\n",
              "      <button class=\"colab-df-convert\" onclick=\"convertToInteractive('df-7bbf24c4-4aba-4897-96fc-57918a325bc6')\"\n",
              "              title=\"Convert this dataframe to an interactive table.\"\n",
              "              style=\"display:none;\">\n",
              "        \n",
              "  <svg xmlns=\"http://www.w3.org/2000/svg\" height=\"24px\"viewBox=\"0 0 24 24\"\n",
              "       width=\"24px\">\n",
              "    <path d=\"M0 0h24v24H0V0z\" fill=\"none\"/>\n",
              "    <path d=\"M18.56 5.44l.94 2.06.94-2.06 2.06-.94-2.06-.94-.94-2.06-.94 2.06-2.06.94zm-11 1L8.5 8.5l.94-2.06 2.06-.94-2.06-.94L8.5 2.5l-.94 2.06-2.06.94zm10 10l.94 2.06.94-2.06 2.06-.94-2.06-.94-.94-2.06-.94 2.06-2.06.94z\"/><path d=\"M17.41 7.96l-1.37-1.37c-.4-.4-.92-.59-1.43-.59-.52 0-1.04.2-1.43.59L10.3 9.45l-7.72 7.72c-.78.78-.78 2.05 0 2.83L4 21.41c.39.39.9.59 1.41.59.51 0 1.02-.2 1.41-.59l7.78-7.78 2.81-2.81c.8-.78.8-2.07 0-2.86zM5.41 20L4 18.59l7.72-7.72 1.47 1.35L5.41 20z\"/>\n",
              "  </svg>\n",
              "      </button>\n",
              "      \n",
              "  <style>\n",
              "    .colab-df-container {\n",
              "      display:flex;\n",
              "      flex-wrap:wrap;\n",
              "      gap: 12px;\n",
              "    }\n",
              "\n",
              "    .colab-df-convert {\n",
              "      background-color: #E8F0FE;\n",
              "      border: none;\n",
              "      border-radius: 50%;\n",
              "      cursor: pointer;\n",
              "      display: none;\n",
              "      fill: #1967D2;\n",
              "      height: 32px;\n",
              "      padding: 0 0 0 0;\n",
              "      width: 32px;\n",
              "    }\n",
              "\n",
              "    .colab-df-convert:hover {\n",
              "      background-color: #E2EBFA;\n",
              "      box-shadow: 0px 1px 2px rgba(60, 64, 67, 0.3), 0px 1px 3px 1px rgba(60, 64, 67, 0.15);\n",
              "      fill: #174EA6;\n",
              "    }\n",
              "\n",
              "    [theme=dark] .colab-df-convert {\n",
              "      background-color: #3B4455;\n",
              "      fill: #D2E3FC;\n",
              "    }\n",
              "\n",
              "    [theme=dark] .colab-df-convert:hover {\n",
              "      background-color: #434B5C;\n",
              "      box-shadow: 0px 1px 3px 1px rgba(0, 0, 0, 0.15);\n",
              "      filter: drop-shadow(0px 1px 2px rgba(0, 0, 0, 0.3));\n",
              "      fill: #FFFFFF;\n",
              "    }\n",
              "  </style>\n",
              "\n",
              "      <script>\n",
              "        const buttonEl =\n",
              "          document.querySelector('#df-7bbf24c4-4aba-4897-96fc-57918a325bc6 button.colab-df-convert');\n",
              "        buttonEl.style.display =\n",
              "          google.colab.kernel.accessAllowed ? 'block' : 'none';\n",
              "\n",
              "        async function convertToInteractive(key) {\n",
              "          const element = document.querySelector('#df-7bbf24c4-4aba-4897-96fc-57918a325bc6');\n",
              "          const dataTable =\n",
              "            await google.colab.kernel.invokeFunction('convertToInteractive',\n",
              "                                                     [key], {});\n",
              "          if (!dataTable) return;\n",
              "\n",
              "          const docLinkHtml = 'Like what you see? Visit the ' +\n",
              "            '<a target=\"_blank\" href=https://colab.research.google.com/notebooks/data_table.ipynb>data table notebook</a>'\n",
              "            + ' to learn more about interactive tables.';\n",
              "          element.innerHTML = '';\n",
              "          dataTable['output_type'] = 'display_data';\n",
              "          await google.colab.output.renderOutput(dataTable, element);\n",
              "          const docLink = document.createElement('div');\n",
              "          docLink.innerHTML = docLinkHtml;\n",
              "          element.appendChild(docLink);\n",
              "        }\n",
              "      </script>\n",
              "    </div>\n",
              "  </div>\n",
              "  "
            ],
            "text/plain": [
              "             Income       Limit     Rating  ...      Age  Education    Balance\n",
              "Income      1242.16    64437.01    4315.49  ...   106.60      -3.05    7513.03\n",
              "Limit      64437.01  5327781.92  356019.74  ...  4016.95    -169.87  914445.99\n",
              "Rating      4315.49   356019.74   23939.56  ...   275.34     -14.57   61434.67\n",
              "Cards         -0.88       32.38      11.30  ...     1.02      -0.22      54.51\n",
              "Age          106.60     4016.95     275.34  ...   297.56       0.20      14.55\n",
              "Education     -3.05     -169.87     -14.57  ...     0.20       9.77     -11.58\n",
              "Balance     7513.03   914445.99   61434.67  ...    14.55     -11.58  211378.23\n",
              "\n",
              "[7 rows x 7 columns]"
            ]
          },
          "metadata": {},
          "execution_count": 85
        }
      ],
      "execution_count": null
    },
    {
      "cell_type": "code",
      "source": [
        "# Matriz de correlaciones\n",
        "Credit\\\n",
        ".corr()\\\n",
        ".round(decimals=2)"
      ],
      "metadata": {
        "application/vnd.databricks.v1+cell": {
          "title": "",
          "showTitle": false,
          "inputWidgets": {},
          "nuid": "bd42cbdb-43de-4450-a4a5-0583b3544e89"
        },
        "colab": {
          "base_uri": "https://localhost:8080/",
          "height": 269
        },
        "id": "lHvAeyKf6sln",
        "outputId": "e91327a6-58f7-43c4-df3f-02a4d22760ad"
      },
      "outputs": [
        {
          "output_type": "execute_result",
          "data": {
            "text/html": [
              "\n",
              "  <div id=\"df-e043af9e-d715-4a82-a356-fa11bd9dce01\">\n",
              "    <div class=\"colab-df-container\">\n",
              "      <div>\n",
              "<style scoped>\n",
              "    .dataframe tbody tr th:only-of-type {\n",
              "        vertical-align: middle;\n",
              "    }\n",
              "\n",
              "    .dataframe tbody tr th {\n",
              "        vertical-align: top;\n",
              "    }\n",
              "\n",
              "    .dataframe thead th {\n",
              "        text-align: right;\n",
              "    }\n",
              "</style>\n",
              "<table border=\"1\" class=\"dataframe\">\n",
              "  <thead>\n",
              "    <tr style=\"text-align: right;\">\n",
              "      <th></th>\n",
              "      <th>Income</th>\n",
              "      <th>Limit</th>\n",
              "      <th>Rating</th>\n",
              "      <th>Cards</th>\n",
              "      <th>Age</th>\n",
              "      <th>Education</th>\n",
              "      <th>Balance</th>\n",
              "    </tr>\n",
              "  </thead>\n",
              "  <tbody>\n",
              "    <tr>\n",
              "      <th>Income</th>\n",
              "      <td>1.00</td>\n",
              "      <td>0.79</td>\n",
              "      <td>0.79</td>\n",
              "      <td>-0.02</td>\n",
              "      <td>0.18</td>\n",
              "      <td>-0.03</td>\n",
              "      <td>0.46</td>\n",
              "    </tr>\n",
              "    <tr>\n",
              "      <th>Limit</th>\n",
              "      <td>0.79</td>\n",
              "      <td>1.00</td>\n",
              "      <td>1.00</td>\n",
              "      <td>0.01</td>\n",
              "      <td>0.10</td>\n",
              "      <td>-0.02</td>\n",
              "      <td>0.86</td>\n",
              "    </tr>\n",
              "    <tr>\n",
              "      <th>Rating</th>\n",
              "      <td>0.79</td>\n",
              "      <td>1.00</td>\n",
              "      <td>1.00</td>\n",
              "      <td>0.05</td>\n",
              "      <td>0.10</td>\n",
              "      <td>-0.03</td>\n",
              "      <td>0.86</td>\n",
              "    </tr>\n",
              "    <tr>\n",
              "      <th>Cards</th>\n",
              "      <td>-0.02</td>\n",
              "      <td>0.01</td>\n",
              "      <td>0.05</td>\n",
              "      <td>1.00</td>\n",
              "      <td>0.04</td>\n",
              "      <td>-0.05</td>\n",
              "      <td>0.09</td>\n",
              "    </tr>\n",
              "    <tr>\n",
              "      <th>Age</th>\n",
              "      <td>0.18</td>\n",
              "      <td>0.10</td>\n",
              "      <td>0.10</td>\n",
              "      <td>0.04</td>\n",
              "      <td>1.00</td>\n",
              "      <td>0.00</td>\n",
              "      <td>0.00</td>\n",
              "    </tr>\n",
              "    <tr>\n",
              "      <th>Education</th>\n",
              "      <td>-0.03</td>\n",
              "      <td>-0.02</td>\n",
              "      <td>-0.03</td>\n",
              "      <td>-0.05</td>\n",
              "      <td>0.00</td>\n",
              "      <td>1.00</td>\n",
              "      <td>-0.01</td>\n",
              "    </tr>\n",
              "    <tr>\n",
              "      <th>Balance</th>\n",
              "      <td>0.46</td>\n",
              "      <td>0.86</td>\n",
              "      <td>0.86</td>\n",
              "      <td>0.09</td>\n",
              "      <td>0.00</td>\n",
              "      <td>-0.01</td>\n",
              "      <td>1.00</td>\n",
              "    </tr>\n",
              "  </tbody>\n",
              "</table>\n",
              "</div>\n",
              "      <button class=\"colab-df-convert\" onclick=\"convertToInteractive('df-e043af9e-d715-4a82-a356-fa11bd9dce01')\"\n",
              "              title=\"Convert this dataframe to an interactive table.\"\n",
              "              style=\"display:none;\">\n",
              "        \n",
              "  <svg xmlns=\"http://www.w3.org/2000/svg\" height=\"24px\"viewBox=\"0 0 24 24\"\n",
              "       width=\"24px\">\n",
              "    <path d=\"M0 0h24v24H0V0z\" fill=\"none\"/>\n",
              "    <path d=\"M18.56 5.44l.94 2.06.94-2.06 2.06-.94-2.06-.94-.94-2.06-.94 2.06-2.06.94zm-11 1L8.5 8.5l.94-2.06 2.06-.94-2.06-.94L8.5 2.5l-.94 2.06-2.06.94zm10 10l.94 2.06.94-2.06 2.06-.94-2.06-.94-.94-2.06-.94 2.06-2.06.94z\"/><path d=\"M17.41 7.96l-1.37-1.37c-.4-.4-.92-.59-1.43-.59-.52 0-1.04.2-1.43.59L10.3 9.45l-7.72 7.72c-.78.78-.78 2.05 0 2.83L4 21.41c.39.39.9.59 1.41.59.51 0 1.02-.2 1.41-.59l7.78-7.78 2.81-2.81c.8-.78.8-2.07 0-2.86zM5.41 20L4 18.59l7.72-7.72 1.47 1.35L5.41 20z\"/>\n",
              "  </svg>\n",
              "      </button>\n",
              "      \n",
              "  <style>\n",
              "    .colab-df-container {\n",
              "      display:flex;\n",
              "      flex-wrap:wrap;\n",
              "      gap: 12px;\n",
              "    }\n",
              "\n",
              "    .colab-df-convert {\n",
              "      background-color: #E8F0FE;\n",
              "      border: none;\n",
              "      border-radius: 50%;\n",
              "      cursor: pointer;\n",
              "      display: none;\n",
              "      fill: #1967D2;\n",
              "      height: 32px;\n",
              "      padding: 0 0 0 0;\n",
              "      width: 32px;\n",
              "    }\n",
              "\n",
              "    .colab-df-convert:hover {\n",
              "      background-color: #E2EBFA;\n",
              "      box-shadow: 0px 1px 2px rgba(60, 64, 67, 0.3), 0px 1px 3px 1px rgba(60, 64, 67, 0.15);\n",
              "      fill: #174EA6;\n",
              "    }\n",
              "\n",
              "    [theme=dark] .colab-df-convert {\n",
              "      background-color: #3B4455;\n",
              "      fill: #D2E3FC;\n",
              "    }\n",
              "\n",
              "    [theme=dark] .colab-df-convert:hover {\n",
              "      background-color: #434B5C;\n",
              "      box-shadow: 0px 1px 3px 1px rgba(0, 0, 0, 0.15);\n",
              "      filter: drop-shadow(0px 1px 2px rgba(0, 0, 0, 0.3));\n",
              "      fill: #FFFFFF;\n",
              "    }\n",
              "  </style>\n",
              "\n",
              "      <script>\n",
              "        const buttonEl =\n",
              "          document.querySelector('#df-e043af9e-d715-4a82-a356-fa11bd9dce01 button.colab-df-convert');\n",
              "        buttonEl.style.display =\n",
              "          google.colab.kernel.accessAllowed ? 'block' : 'none';\n",
              "\n",
              "        async function convertToInteractive(key) {\n",
              "          const element = document.querySelector('#df-e043af9e-d715-4a82-a356-fa11bd9dce01');\n",
              "          const dataTable =\n",
              "            await google.colab.kernel.invokeFunction('convertToInteractive',\n",
              "                                                     [key], {});\n",
              "          if (!dataTable) return;\n",
              "\n",
              "          const docLinkHtml = 'Like what you see? Visit the ' +\n",
              "            '<a target=\"_blank\" href=https://colab.research.google.com/notebooks/data_table.ipynb>data table notebook</a>'\n",
              "            + ' to learn more about interactive tables.';\n",
              "          element.innerHTML = '';\n",
              "          dataTable['output_type'] = 'display_data';\n",
              "          await google.colab.output.renderOutput(dataTable, element);\n",
              "          const docLink = document.createElement('div');\n",
              "          docLink.innerHTML = docLinkHtml;\n",
              "          element.appendChild(docLink);\n",
              "        }\n",
              "      </script>\n",
              "    </div>\n",
              "  </div>\n",
              "  "
            ],
            "text/plain": [
              "           Income  Limit  Rating  Cards   Age  Education  Balance\n",
              "Income       1.00   0.79    0.79  -0.02  0.18      -0.03     0.46\n",
              "Limit        0.79   1.00    1.00   0.01  0.10      -0.02     0.86\n",
              "Rating       0.79   1.00    1.00   0.05  0.10      -0.03     0.86\n",
              "Cards       -0.02   0.01    0.05   1.00  0.04      -0.05     0.09\n",
              "Age          0.18   0.10    0.10   0.04  1.00       0.00     0.00\n",
              "Education   -0.03  -0.02   -0.03  -0.05  0.00       1.00    -0.01\n",
              "Balance      0.46   0.86    0.86   0.09  0.00      -0.01     1.00"
            ]
          },
          "metadata": {},
          "execution_count": 86
        }
      ],
      "execution_count": null
    },
    {
      "cell_type": "markdown",
      "source": [
        "**Nota Final**: Es importante comprender que la correlación no representa causalidad, analicemos algunos ejemplos: [Correlación Espuria](https://www.tylervigen.com/spurious-correlations)"
      ],
      "metadata": {
        "application/vnd.databricks.v1+cell": {
          "title": "",
          "showTitle": false,
          "inputWidgets": {},
          "nuid": "09ea0f2e-7998-4e27-8d7e-67ee12479e51"
        },
        "id": "SnwPBSnb6sln"
      }
    },
    {
      "cell_type": "markdown",
      "source": [
        "\n",
        "\n",
        "<div style=\"text-align: center; line-height: 0; padding-top: 9px;\">\n",
        "  <img src=\"https://storage.googleapis.com/datasets-academy/public-img/notebooks/headers/databits-footer-notebook.png\" alt=\"Databricks Learning\" style=\"width: 100%;\">\n",
        "</div>"
      ],
      "metadata": {
        "application/vnd.databricks.v1+cell": {
          "title": "",
          "showTitle": false,
          "inputWidgets": {},
          "nuid": "4e01380a-e4ae-4052-b758-09edf7a7529c"
        },
        "id": "fweO35Ro6sln"
      }
    }
  ],
  "metadata": {
    "language_info": {
      "mimetype": "text/x-python",
      "name": "python",
      "pygments_lexer": "ipython3",
      "codemirror_mode": {
        "name": "ipython",
        "version": 3
      },
      "version": "3.7.3",
      "nbconvert_exporter": "python",
      "file_extension": ".py"
    },
    "name": "Estadística Descriptiva",
    "notebookId": 3881684714476310,
    "kernelspec": {
      "display_name": "Python 3",
      "language": "python",
      "name": "python3"
    },
    "application/vnd.databricks.v1+notebook": {
      "notebookName": "05 Estadística descriptiva",
      "dashboards": [],
      "notebookMetadata": {
        "pythonIndentUnit": 2
      },
      "language": "python",
      "widgets": {},
      "notebookOrigID": 3292013333172471
    },
    "colab": {
      "provenance": [],
      "collapsed_sections": [
        "pAOFUmrA7Dhy",
        "PPjEZvbb7J6R",
        "7gNaVHhc6slk",
        "MdjY9Z2L7SmB",
        "nmr0StaP7W0_"
      ],
      "include_colab_link": true
    }
  },
  "nbformat": 4,
  "nbformat_minor": 0
}